{
 "cells": [
  {
   "cell_type": "markdown",
   "id": "90899241",
   "metadata": {},
   "source": [
    "# Table of Contents\n",
    "\n",
    "* [Introduction](#Introduction)\n",
    "* [Section 1 Functions-For-Processing](#Functions-For-Processing)\n",
    "    * [Section 1.1 Import Libraries](#Import-Libraries)\n",
    "    * [Section 1.2 Transform-a-time-series-dataset-into-a-supervised-learning-dataset](#Transform-a-time-series-dataset-into-a-supervised-learning-dataset)\n",
    "    * [Section 1.3 Split-a-univariate-dataset-into-train/test-sets](#Split-a-univariate-dataset-into-train/test-sets)\n",
    "    * [Section 1.4 Fit-an-random-forest-model-and-make-a-one-step-prediction](#Fit-an-random-forest-model-and-make-a-one-step-prediction)\n",
    "    * [Section 1.5 Walk-forward-validation-for-univariate-data](#Walk-forward-validation-for-univariate-data)\n",
    "* [Section 2 Processing-and-Evaluation](#Processing-and-Evaluation)\n",
    "     * [Section 2.1 Analysis-based-on-60-days-input-data](#Analysis-based-on-60-days-training-data)\n",
    "         * [Section 2.1.1 load-the-dataset](#Load-the-60-days-data)\n",
    "         * [Section 2.1.2 Evaluate](#Analysis-based-on-60-days-training-data)\n",
    "         * [Section 2.1.3 Insight](#Insight-for-60-days-Training-Data-Evaluation)\n",
    "     * [Section 2.2 Analysis-based-on-30-days-input-data](#Analysis-Based-On-30-Days-Training-Data)\n",
    "         * [Section 2.2.1 Load-the-data](#Load-the-30-days-data)\n",
    "         * [Section 2.2.2 Evaluate](#Analysis-based-on-30-days-training-data)\n",
    "         * [Section 2.2.3 Insight](#Insight-for-30-days-Training-Data)\n",
    "* [Section 3 Summary](#Summary)\n",
    "     * [Section 3.1 Suggestions](#Suggestions)\n",
    "         \n",
    "    \n",
    "\n"
   ]
  },
  {
   "attachments": {},
   "cell_type": "markdown",
   "id": "f0d6bb78",
   "metadata": {},
   "source": [
    "# Introduction <a class=\"anchor\" id=\"Introduction\"></a>\n",
    "\n",
    "This notebook contains data analysis and processing of glucose data of a patient to obtain key insights and get future predictions of data. \n",
    "\n",
    "The notebook is divided into two sections:\n",
    "1. In the first section all the fuctions have been defined that can be called anywhere is the notebook. These functions include:\n",
    "\n",
    " a) Transform a time series dataset into a supervised learning dataset.\n",
    " \n",
    " b) Split a univariate dataset into train/test sets\n",
    " \n",
    " c) Fit a random forest model and make a one step prediction\n",
    " \n",
    " d) Walk-forward validation for univariate data\n",
    " \n",
    "\n",
    "2. The section 2 utilizes all the fuctions that have been developed in section 1 to evaluate and predict the results. \n",
    "\n",
    "## a) Transform a time series dataset into a supervised learning dataset\n",
    "This step transforms time series data into a supervised learning dataset for better prediction scores. The dataset is made in such a way that the original univariate data is provided multiple columns which, these colums have values from previous datapoints. Ths creates a dependency and colinear relation between datapoints as they progress. When this relation between datapoints is learned by the model, it performs better as compared to a non-supervised dataset. \n",
    "\n",
    "## b) Split a univariate dataset into train/test sets\n",
    "This step is key for any model, we need to divide our dataset into train and test sets. Generally a 80% train and 20% test is considered. \n",
    "\n",
    "##  c) Fit a SVR model and make a one step prediction\n",
    "In machine learning, Support Vector Machines are supervised learning models with associated learning algorithms that analyze data used for classification and regression analysis. In Support Vector Regression, the straight line that is required to fit the data is referred to as hyperplane.\n",
    "The objective of a support vector machine algorithm is to find a hyperplane in an n-dimensional space that distinctly classifies the data points. The data points on either side of the hyperplane that are closest to the hyperplane are called Support Vectors. These influence the position and orientation of the hyperplane and thus help build the SVM.\n",
    "\n",
    "\n",
    "## d) Walk-forward validation for univariate data\n",
    "Walk forward validation is an important step in this kind of data, specially if the data is continuously streaming in. We need a model that can cater for new data points while predicting the next data points. In this notebook, we perform a 12 point walk forward validation. \n",
    "\n",
    "In short we train our model on a specific amount of training data and predict the next 12 data points, after ths prediction the 12 predicted data points are then merged into the training data and next 12 data points are predicted. In this way we can take input from real time streaming data and add it to the process of predicting future values. "
   ]
  },
  {
   "cell_type": "markdown",
   "id": "6248b6ae",
   "metadata": {},
   "source": [
    "# Functions-For-Processing"
   ]
  },
  {
   "cell_type": "markdown",
   "id": "8a48ff24",
   "metadata": {},
   "source": [
    "## Import Libraries"
   ]
  },
  {
   "cell_type": "code",
   "execution_count": 1,
   "id": "d60de080",
   "metadata": {},
   "outputs": [],
   "source": [
    "import numpy as np\n",
    "import pandas as pd\n",
    "from numpy import asarray\n",
    "from pandas import read_csv\n",
    "from pandas import DataFrame\n",
    "from pandas import concat\n",
    "from sklearn.metrics import mean_absolute_error\n",
    "from sklearn.metrics import mean_squared_error\n",
    "from sklearn.svm import SVR\n",
    "from matplotlib import pyplot"
   ]
  },
  {
   "cell_type": "markdown",
   "id": "9e38e94d",
   "metadata": {},
   "source": [
    "## Transform a time series dataset into a supervised learning dataset\n",
    "\n",
    "This steps includes converting a naive time series data into a supervised dataset. The number of values to be used as lag for supervised dataset is sent as a parameter to the function. \n",
    "\n",
    "\n",
    "The function takes the original dataset and add columns infront of each data value. These columns are bascially the preceding values to that particular value, in the time series. "
   ]
  },
  {
   "cell_type": "code",
   "execution_count": 2,
   "id": "3477d273",
   "metadata": {},
   "outputs": [],
   "source": [
    "def series_to_supervised(data, n_in=1, n_out=1, dropnan=True):\n",
    "    n_vars = 1 if type(data) is list else data.shape[1]\n",
    "    df = DataFrame(data)\n",
    "    cols = list()\n",
    "    # input sequence (t-n, ... t-1)\n",
    "    for i in range(n_in, 0, -1):\n",
    "        cols.append(df.shift(i))\n",
    "    # forecast sequence (t, t+1, ... t+n)\n",
    "    for i in range(0, n_out):\n",
    "        cols.append(df.shift(-i))\n",
    "    # put it all together\n",
    "    agg = concat(cols, axis=1)\n",
    "    # drop rows with NaN values\n",
    "    if dropnan:\n",
    "        agg.dropna(inplace=True)\n",
    "    return agg.values"
   ]
  },
  {
   "cell_type": "markdown",
   "id": "1d9c564b",
   "metadata": {},
   "source": [
    "## Split a univariate dataset into train/test sets"
   ]
  },
  {
   "cell_type": "code",
   "execution_count": 3,
   "id": "3cdbfd43",
   "metadata": {},
   "outputs": [],
   "source": [
    "def train_test_split(data, n_test):\n",
    "    return data[:-n_test, :], data[-n_test:, :]"
   ]
  },
  {
   "cell_type": "markdown",
   "id": "06d55d89",
   "metadata": {},
   "source": [
    "## Fit a SVR model and make a one step prediction\n"
   ]
  },
  {
   "cell_type": "code",
   "execution_count": 4,
   "id": "711ee690",
   "metadata": {},
   "outputs": [],
   "source": [
    "def random_forest_forecast(train, testX):\n",
    "    # transform list into array\n",
    "    train = asarray(train)\n",
    "    # split into input and output columns\n",
    "    trainX, trainy = train[:, :-1], train[:, -1]\n",
    "    # fit model\n",
    "    model = SVR()\n",
    "    model.fit(trainX, trainy)\n",
    "    # make a one-step prediction\n",
    "    yhat = model.predict([testX])\n",
    "    return yhat[0]"
   ]
  },
  {
   "cell_type": "markdown",
   "id": "e0e32c78",
   "metadata": {},
   "source": [
    "## Walk-forward validation for univariate data\n"
   ]
  },
  {
   "cell_type": "code",
   "execution_count": 5,
   "id": "27135e63",
   "metadata": {},
   "outputs": [],
   "source": [
    "def walk_forward_validation(data, n_test):\n",
    "    data = series_to_supervised(data, n_in=6)\n",
    "    predictions = list()\n",
    "    # split dataset\n",
    "    train, test = train_test_split(data, n_test)\n",
    "    # seed history with training dataset\n",
    "    history = [x for x in train]\n",
    "    # step over each time-step in the test set\n",
    "    for i in range(len(test)):\n",
    "        # split test row into input and output columns\n",
    "        testX, testy = test[i, :-1], test[i, -1]\n",
    "        # fit model on history and make a prediction\n",
    "        yhat = random_forest_forecast(history, testX)\n",
    "        # store forecast in list of predictions\n",
    "        predictions.append(yhat)\n",
    "        # history.append(test[i]) # use only if: add actual observation to history for the next loop\n",
    "        # summarize progress\n",
    "        print('>expected=%.1f, predicted=%.1f' % (testy, yhat))\n",
    "    # estimate prediction error\n",
    "    error = mean_absolute_error(test[:, -1], predictions)\n",
    "    rmse = mean_squared_error(test[:, -1], predictions)\n",
    "    rmse = (rmse) ** (0.5)\n",
    "    return error, test[:, -1], predictions, rmse"
   ]
  },
  {
   "cell_type": "markdown",
   "id": "60390b80",
   "metadata": {},
   "source": [
    "# Processing-and-Evaluation"
   ]
  },
  {
   "cell_type": "markdown",
   "id": "2ea12a0d",
   "metadata": {},
   "source": [
    "## Analysis based on 60 days training data"
   ]
  },
  {
   "cell_type": "markdown",
   "id": "388d0bdd",
   "metadata": {},
   "source": [
    "### Load the 60 days data"
   ]
  },
  {
   "cell_type": "code",
   "execution_count": 6,
   "id": "d432acb9",
   "metadata": {},
   "outputs": [
    {
     "data": {
      "text/html": [
       "<div>\n",
       "<style scoped>\n",
       "    .dataframe tbody tr th:only-of-type {\n",
       "        vertical-align: middle;\n",
       "    }\n",
       "\n",
       "    .dataframe tbody tr th {\n",
       "        vertical-align: top;\n",
       "    }\n",
       "\n",
       "    .dataframe thead th {\n",
       "        text-align: right;\n",
       "    }\n",
       "</style>\n",
       "<table border=\"1\" class=\"dataframe\">\n",
       "  <thead>\n",
       "    <tr style=\"text-align: right;\">\n",
       "      <th></th>\n",
       "      <th>0</th>\n",
       "    </tr>\n",
       "  </thead>\n",
       "  <tbody>\n",
       "    <tr>\n",
       "      <th>count</th>\n",
       "      <td>17274.000000</td>\n",
       "    </tr>\n",
       "    <tr>\n",
       "      <th>mean</th>\n",
       "      <td>129.411485</td>\n",
       "    </tr>\n",
       "    <tr>\n",
       "      <th>std</th>\n",
       "      <td>41.198385</td>\n",
       "    </tr>\n",
       "    <tr>\n",
       "      <th>min</th>\n",
       "      <td>39.000000</td>\n",
       "    </tr>\n",
       "    <tr>\n",
       "      <th>25%</th>\n",
       "      <td>102.000000</td>\n",
       "    </tr>\n",
       "    <tr>\n",
       "      <th>50%</th>\n",
       "      <td>122.000000</td>\n",
       "    </tr>\n",
       "    <tr>\n",
       "      <th>75%</th>\n",
       "      <td>150.000000</td>\n",
       "    </tr>\n",
       "    <tr>\n",
       "      <th>max</th>\n",
       "      <td>386.000000</td>\n",
       "    </tr>\n",
       "  </tbody>\n",
       "</table>\n",
       "</div>"
      ],
      "text/plain": [
       "                  0\n",
       "count  17274.000000\n",
       "mean     129.411485\n",
       "std       41.198385\n",
       "min       39.000000\n",
       "25%      102.000000\n",
       "50%      122.000000\n",
       "75%      150.000000\n",
       "max      386.000000"
      ]
     },
     "execution_count": 6,
     "metadata": {},
     "output_type": "execute_result"
    },
    {
     "data": {
      "image/png": "[encoded data removed]",
      "text/plain": [
       "<Figure size 432x288 with 1 Axes>"
      ]
     },
     "metadata": {
      "needs_background": "light"
     },
     "output_type": "display_data"
    }
   ],
   "source": [
    "series = read_csv(\n",
    "    r'C:\\Users\\ahtis\\OneDrive\\Desktop\\ARIMA\\data\\data.csv', header=0, index_col=0)\n",
    "values = series.values\n",
    "\n",
    "# Read 60 days of data from the dataset for validation. Each datapoint is recorded with 5 minute interval in between.\n",
    "# (12 points in an hour, 288 points in a day, 17280 in 60 days)\n",
    "\n",
    "data = values[0:17280]\n",
    "data1 = values[0:17280]\n",
    "pyplot.plot(data, label='Glucose Data')\n",
    "\n",
    "pyplot.xlabel('Data Index')\n",
    "pyplot.ylabel('Glucose Level (mg/dL)')\n",
    "\n",
    "data1 = pd.DataFrame(data)\n",
    "data1.describe()"
   ]
  },
  {
   "cell_type": "markdown",
   "id": "7f6772ef",
   "metadata": {},
   "source": [
    "### Analysis based on 60 days training data"
   ]
  },
  {
   "cell_type": "code",
   "execution_count": 7,
   "id": "a275ebcb",
   "metadata": {},
   "outputs": [
    {
     "name": "stdout",
     "output_type": "stream",
     "text": [
      ">expected=84.0, predicted=81.0\n"
     ]
    },
    {
     "ename": "KeyboardInterrupt",
     "evalue": "",
     "output_type": "error",
     "traceback": [
      "\u001b[1;31m---------------------------------------------------------------------------\u001b[0m",
      "\u001b[1;31mKeyboardInterrupt\u001b[0m                         Traceback (most recent call last)",
      "\u001b[1;32m~\\AppData\\Local\\Temp/ipykernel_14800/2285042300.py\u001b[0m in \u001b[0;36m<module>\u001b[1;34m\u001b[0m\n\u001b[0;32m      1\u001b[0m \u001b[0mmean_abs_error\u001b[0m \u001b[1;33m=\u001b[0m \u001b[0mlist\u001b[0m\u001b[1;33m(\u001b[0m\u001b[1;33m)\u001b[0m\u001b[1;33m\u001b[0m\u001b[1;33m\u001b[0m\u001b[0m\n\u001b[0;32m      2\u001b[0m \u001b[1;32mfor\u001b[0m \u001b[0mi\u001b[0m \u001b[1;32min\u001b[0m \u001b[0mrange\u001b[0m\u001b[1;33m(\u001b[0m\u001b[1;36m3\u001b[0m\u001b[1;33m)\u001b[0m\u001b[1;33m:\u001b[0m\u001b[1;33m\u001b[0m\u001b[1;33m\u001b[0m\u001b[0m\n\u001b[1;32m----> 3\u001b[1;33m     \u001b[0mmae\u001b[0m\u001b[1;33m,\u001b[0m \u001b[0my\u001b[0m\u001b[1;33m,\u001b[0m \u001b[0myhat\u001b[0m\u001b[1;33m,\u001b[0m\u001b[0mrmse\u001b[0m \u001b[1;33m=\u001b[0m \u001b[0mwalk_forward_validation\u001b[0m\u001b[1;33m(\u001b[0m\u001b[0mdata\u001b[0m\u001b[1;33m,\u001b[0m \u001b[1;36m72\u001b[0m\u001b[1;33m)\u001b[0m\u001b[1;33m\u001b[0m\u001b[1;33m\u001b[0m\u001b[0m\n\u001b[0m\u001b[0;32m      4\u001b[0m     \u001b[0mprint\u001b[0m\u001b[1;33m(\u001b[0m\u001b[1;34m'MAE: %.3f'\u001b[0m \u001b[1;33m%\u001b[0m \u001b[0mmae\u001b[0m\u001b[1;33m)\u001b[0m\u001b[1;33m\u001b[0m\u001b[1;33m\u001b[0m\u001b[0m\n\u001b[0;32m      5\u001b[0m     \u001b[0mprint\u001b[0m\u001b[1;33m(\u001b[0m\u001b[1;34m'RMSE: %.3f'\u001b[0m \u001b[1;33m%\u001b[0m \u001b[0mrmse\u001b[0m\u001b[1;33m)\u001b[0m\u001b[1;33m\u001b[0m\u001b[1;33m\u001b[0m\u001b[0m\n",
      "\u001b[1;32m~\\AppData\\Local\\Temp/ipykernel_14800/4023711275.py\u001b[0m in \u001b[0;36mwalk_forward_validation\u001b[1;34m(data, n_test)\u001b[0m\n\u001b[0;32m     11\u001b[0m         \u001b[0mtestX\u001b[0m\u001b[1;33m,\u001b[0m \u001b[0mtesty\u001b[0m \u001b[1;33m=\u001b[0m \u001b[0mtest\u001b[0m\u001b[1;33m[\u001b[0m\u001b[0mi\u001b[0m\u001b[1;33m,\u001b[0m \u001b[1;33m:\u001b[0m\u001b[1;33m-\u001b[0m\u001b[1;36m1\u001b[0m\u001b[1;33m]\u001b[0m\u001b[1;33m,\u001b[0m \u001b[0mtest\u001b[0m\u001b[1;33m[\u001b[0m\u001b[0mi\u001b[0m\u001b[1;33m,\u001b[0m \u001b[1;33m-\u001b[0m\u001b[1;36m1\u001b[0m\u001b[1;33m]\u001b[0m\u001b[1;33m\u001b[0m\u001b[1;33m\u001b[0m\u001b[0m\n\u001b[0;32m     12\u001b[0m         \u001b[1;31m# fit model on history and make a prediction\u001b[0m\u001b[1;33m\u001b[0m\u001b[1;33m\u001b[0m\u001b[0m\n\u001b[1;32m---> 13\u001b[1;33m         \u001b[0myhat\u001b[0m \u001b[1;33m=\u001b[0m \u001b[0mrandom_forest_forecast\u001b[0m\u001b[1;33m(\u001b[0m\u001b[0mhistory\u001b[0m\u001b[1;33m,\u001b[0m \u001b[0mtestX\u001b[0m\u001b[1;33m)\u001b[0m\u001b[1;33m\u001b[0m\u001b[1;33m\u001b[0m\u001b[0m\n\u001b[0m\u001b[0;32m     14\u001b[0m         \u001b[1;31m# store forecast in list of predictions\u001b[0m\u001b[1;33m\u001b[0m\u001b[1;33m\u001b[0m\u001b[0m\n\u001b[0;32m     15\u001b[0m         \u001b[0mpredictions\u001b[0m\u001b[1;33m.\u001b[0m\u001b[0mappend\u001b[0m\u001b[1;33m(\u001b[0m\u001b[0myhat\u001b[0m\u001b[1;33m)\u001b[0m\u001b[1;33m\u001b[0m\u001b[1;33m\u001b[0m\u001b[0m\n",
      "\u001b[1;32m~\\AppData\\Local\\Temp/ipykernel_14800/1632764307.py\u001b[0m in \u001b[0;36mrandom_forest_forecast\u001b[1;34m(train, testX)\u001b[0m\n\u001b[0;32m      6\u001b[0m     \u001b[1;31m# fit model\u001b[0m\u001b[1;33m\u001b[0m\u001b[1;33m\u001b[0m\u001b[0m\n\u001b[0;32m      7\u001b[0m     \u001b[0mmodel\u001b[0m \u001b[1;33m=\u001b[0m \u001b[0mSVR\u001b[0m\u001b[1;33m(\u001b[0m\u001b[1;33m)\u001b[0m\u001b[1;33m\u001b[0m\u001b[1;33m\u001b[0m\u001b[0m\n\u001b[1;32m----> 8\u001b[1;33m     \u001b[0mmodel\u001b[0m\u001b[1;33m.\u001b[0m\u001b[0mfit\u001b[0m\u001b[1;33m(\u001b[0m\u001b[0mtrainX\u001b[0m\u001b[1;33m,\u001b[0m \u001b[0mtrainy\u001b[0m\u001b[1;33m)\u001b[0m\u001b[1;33m\u001b[0m\u001b[1;33m\u001b[0m\u001b[0m\n\u001b[0m\u001b[0;32m      9\u001b[0m     \u001b[1;31m# make a one-step prediction\u001b[0m\u001b[1;33m\u001b[0m\u001b[1;33m\u001b[0m\u001b[0m\n\u001b[0;32m     10\u001b[0m     \u001b[0myhat\u001b[0m \u001b[1;33m=\u001b[0m \u001b[0mmodel\u001b[0m\u001b[1;33m.\u001b[0m\u001b[0mpredict\u001b[0m\u001b[1;33m(\u001b[0m\u001b[1;33m[\u001b[0m\u001b[0mtestX\u001b[0m\u001b[1;33m]\u001b[0m\u001b[1;33m)\u001b[0m\u001b[1;33m\u001b[0m\u001b[1;33m\u001b[0m\u001b[0m\n",
      "\u001b[1;32m~\\Anaconda3\\lib\\site-packages\\sklearn\\svm\\_base.py\u001b[0m in \u001b[0;36mfit\u001b[1;34m(self, X, y, sample_weight)\u001b[0m\n\u001b[0;32m    224\u001b[0m \u001b[1;33m\u001b[0m\u001b[0m\n\u001b[0;32m    225\u001b[0m         \u001b[0mseed\u001b[0m \u001b[1;33m=\u001b[0m \u001b[0mrnd\u001b[0m\u001b[1;33m.\u001b[0m\u001b[0mrandint\u001b[0m\u001b[1;33m(\u001b[0m\u001b[0mnp\u001b[0m\u001b[1;33m.\u001b[0m\u001b[0miinfo\u001b[0m\u001b[1;33m(\u001b[0m\u001b[1;34m'i'\u001b[0m\u001b[1;33m)\u001b[0m\u001b[1;33m.\u001b[0m\u001b[0mmax\u001b[0m\u001b[1;33m)\u001b[0m\u001b[1;33m\u001b[0m\u001b[1;33m\u001b[0m\u001b[0m\n\u001b[1;32m--> 226\u001b[1;33m         \u001b[0mfit\u001b[0m\u001b[1;33m(\u001b[0m\u001b[0mX\u001b[0m\u001b[1;33m,\u001b[0m \u001b[0my\u001b[0m\u001b[1;33m,\u001b[0m \u001b[0msample_weight\u001b[0m\u001b[1;33m,\u001b[0m \u001b[0msolver_type\u001b[0m\u001b[1;33m,\u001b[0m \u001b[0mkernel\u001b[0m\u001b[1;33m,\u001b[0m \u001b[0mrandom_seed\u001b[0m\u001b[1;33m=\u001b[0m\u001b[0mseed\u001b[0m\u001b[1;33m)\u001b[0m\u001b[1;33m\u001b[0m\u001b[1;33m\u001b[0m\u001b[0m\n\u001b[0m\u001b[0;32m    227\u001b[0m         \u001b[1;31m# see comment on the other call to np.iinfo in this file\u001b[0m\u001b[1;33m\u001b[0m\u001b[1;33m\u001b[0m\u001b[0m\n\u001b[0;32m    228\u001b[0m \u001b[1;33m\u001b[0m\u001b[0m\n",
      "\u001b[1;32m~\\Anaconda3\\lib\\site-packages\\sklearn\\svm\\_base.py\u001b[0m in \u001b[0;36m_dense_fit\u001b[1;34m(self, X, y, sample_weight, solver_type, kernel, random_seed)\u001b[0m\n\u001b[0;32m    275\u001b[0m         \u001b[0mself\u001b[0m\u001b[1;33m.\u001b[0m\u001b[0msupport_\u001b[0m\u001b[1;33m,\u001b[0m \u001b[0mself\u001b[0m\u001b[1;33m.\u001b[0m\u001b[0msupport_vectors_\u001b[0m\u001b[1;33m,\u001b[0m \u001b[0mself\u001b[0m\u001b[1;33m.\u001b[0m\u001b[0m_n_support\u001b[0m\u001b[1;33m,\u001b[0m\u001b[0;31m \u001b[0m\u001b[0;31m\\\u001b[0m\u001b[1;33m\u001b[0m\u001b[1;33m\u001b[0m\u001b[0m\n\u001b[0;32m    276\u001b[0m             \u001b[0mself\u001b[0m\u001b[1;33m.\u001b[0m\u001b[0mdual_coef_\u001b[0m\u001b[1;33m,\u001b[0m \u001b[0mself\u001b[0m\u001b[1;33m.\u001b[0m\u001b[0mintercept_\u001b[0m\u001b[1;33m,\u001b[0m \u001b[0mself\u001b[0m\u001b[1;33m.\u001b[0m\u001b[0m_probA\u001b[0m\u001b[1;33m,\u001b[0m\u001b[0;31m \u001b[0m\u001b[0;31m\\\u001b[0m\u001b[1;33m\u001b[0m\u001b[1;33m\u001b[0m\u001b[0m\n\u001b[1;32m--> 277\u001b[1;33m             self._probB, self.fit_status_ = libsvm.fit(\n\u001b[0m\u001b[0;32m    278\u001b[0m                 \u001b[0mX\u001b[0m\u001b[1;33m,\u001b[0m \u001b[0my\u001b[0m\u001b[1;33m,\u001b[0m\u001b[1;33m\u001b[0m\u001b[1;33m\u001b[0m\u001b[0m\n\u001b[0;32m    279\u001b[0m                 \u001b[0msvm_type\u001b[0m\u001b[1;33m=\u001b[0m\u001b[0msolver_type\u001b[0m\u001b[1;33m,\u001b[0m \u001b[0msample_weight\u001b[0m\u001b[1;33m=\u001b[0m\u001b[0msample_weight\u001b[0m\u001b[1;33m,\u001b[0m\u001b[1;33m\u001b[0m\u001b[1;33m\u001b[0m\u001b[0m\n",
      "\u001b[1;31mKeyboardInterrupt\u001b[0m: "
     ]
    }
   ],
   "source": [
    "mean_abs_error = list()\n",
    "start_time = time.time()\n",
    "for i in range(1):\n",
    "    mae, y, yhat,rmse = walk_forward_validation(data, 72)\n",
    "    print('MAE: %.3f' % mae)\n",
    "    print('RMSE: %.3f' % rmse)\n",
    "    #data = values[len(data)-2:len(data)+len(data)-2, :]\n",
    "    #yhat = np.asarray(yhat)\n",
    "    # print('yhat',yhat.shape)\n",
    "    #yhat_append = series_to_supervised(yhat, n_in=6)\n",
    "    #print('yhat append',yhat_append.shape)\n",
    "    #y_append = np.asarray(y)\n",
    "    #data = np.append(data, y_append)\n",
    "    #data = np.reshape(data, (-1, 1))\n",
    "    data = values[0:len(data)+72,:]\n",
    "    mean_abs_error.append(mae)\n",
    "    pyplot.plot(y, label='Expected')\n",
    "    pyplot.plot(yhat, label='Predicted')\n",
    "    pyplot.xlabel(\"Data Points\")\n",
    "    pyplot.ylabel(\"Glucose Level(mg/dL)\")\n",
    "    #pyplot.title('Loss: MAE = %f' % (mae) , 'Loss: MSE = %f' % (mse) )\n",
    "    pyplot.legend()\n",
    "    pyplot.show()\n",
    "\n",
    "print(\"--- %s seconds ---\" % (time.time() - start_time))"
   ]
  },
  {
   "cell_type": "markdown",
   "id": "1dcb0456",
   "metadata": {},
   "source": [
    "### Insight for 60 days Training Data Evaluation"
   ]
  },
  {
   "cell_type": "markdown",
   "id": "c186872d",
   "metadata": {},
   "source": [
    "Using the 60 Day time period for our data, we are able to iterate two time over the data set. Here we are predicting next 72 points which is next 6 hours of data. \n",
    "\n",
    "The Key Insight is that as we progress in the foward 72 step validation the MAE and MSE remains almost constant.\n",
    "\n",
    "In first prediction the MAE is at 2.342 and RMSE is at 3.138.\n",
    "\n",
    "In second iteration the MAE is at 2.471 and MSE is at 3.049. \n",
    "\n",
    "In Third iteration the MAE is at 2.036 and MSE is at 2.913. \n",
    "\n",
    "Model is considered to be useful if MAE and RMSE is less than 5 in general, since the trend is maintained and loss parameters are in desired range the model can be considered for further testing. Higher MAE/RMSE can further distort the prediction as compared to original values. "
   ]
  },
  {
   "cell_type": "markdown",
   "id": "205c8f13",
   "metadata": {},
   "source": [
    "## Analysis Based On 30 Days Training Data"
   ]
  },
  {
   "cell_type": "markdown",
   "id": "5b836beb",
   "metadata": {},
   "source": [
    "### Load the 30 days data"
   ]
  },
  {
   "cell_type": "code",
   "execution_count": null,
   "id": "dda92d2c",
   "metadata": {},
   "outputs": [],
   "source": [
    "series = read_csv(\n",
    "    r'C:\\Users\\ahtis\\OneDrive\\Desktop\\ARIMA\\data\\data.csv', header=0, index_col=0)\n",
    "values = series.values\n",
    "\n",
    "# Read 60 days of data from the dataset for validation. Each datapoint is recorded with 5 minute interval in between.\n",
    "# (12 points in an hour, 288 points in a day, 8640 in 30 days)\n",
    "\n",
    "data = values[0:8640]\n",
    "data1 = values[0:8640]\n",
    "pyplot.plot(data, label='Glucose Data')\n",
    "\n",
    "pyplot.xlabel('Data Index')\n",
    "pyplot.ylabel('Glucose Level (mg/dL)')\n",
    "\n",
    "data1 = pd.DataFrame(data)\n",
    "data1.describe()"
   ]
  },
  {
   "cell_type": "markdown",
   "id": "193214d8",
   "metadata": {},
   "source": [
    "### Analysis based on 30 days training data"
   ]
  },
  {
   "cell_type": "code",
   "execution_count": null,
   "id": "287c549d",
   "metadata": {
    "scrolled": true
   },
   "outputs": [],
   "source": [
    "mean_abs_error = list()\n",
    "start_time1 = time.time()\n",
    "for i in range(3):\n",
    "    mae, y, yhat, rmse = walk_forward_validation(data, 72)\n",
    "    print('MAE: %.3f' % mae)\n",
    "    print('RMSE: %.3f' % rmse)\n",
    "    #data = values[len(data)-2:len(data)+len(data)-2, :]\n",
    "    #yhat = np.asarray(yhat)\n",
    "    # print('yhat',yhat.shape)\n",
    "    #yhat_append = series_to_supervised(yhat, n_in=6)\n",
    "    #print('yhat append',yhat_append.shape)\n",
    "    #y_append = np.asarray(y)\n",
    "    #data = np.append(data, y_append)\n",
    "    #data = np.reshape(data, (-1, 1))\n",
    "    data = values[0:len(data)+72,:]\n",
    "    mean_abs_error.append(mae)\n",
    "    pyplot.plot(y, label='Expected')\n",
    "    pyplot.plot(yhat, label='Predicted')\n",
    "    pyplot.xlabel(\"Data Points\")\n",
    "    pyplot.ylabel(\"Glucose Level(mg/dL)\")\n",
    "   # pyplot.title('Loss: MAE = %f' % (mae) ,'Loss: MSE = %f' % (mse))\n",
    "    pyplot.legend()\n",
    "    pyplot.show()\n",
    "print(\"--- %s seconds ---\" % (time.time() - start_time1))"
   ]
  },
  {
   "cell_type": "markdown",
   "id": "c96b428e",
   "metadata": {},
   "source": [
    "### Insight for 30 days Training Data"
   ]
  },
  {
   "cell_type": "markdown",
   "id": "f11bafe3",
   "metadata": {},
   "source": [
    "Using the 30 Day time period for our data, we are able to iterate four times over the data set. Here we are predicting next 72 points which is next 6 hours of data. \n",
    "\n",
    "The Key Insight is that as we progress in the foward 72 step validation the MAE and MSE almost remains constant.\n",
    "\n",
    "In first iteration the MAE is at 2.639 and RMSE is at 3.411.\n",
    "\n",
    "In second iteration the MAE is at 2.783 and MSE is at 4.129. \n",
    "\n",
    "In third iteration the MAE is at 2.641 and MSE is at 3.776. \n",
    "\n",
    "\n",
    "Model is considered to be useful if MAE and RMSE is less than 5 in general, since the trend is maintained and loss parameters are in desired range the model can be considered for further testing. Higher MAE/RMSE can further distort the prediction as compared to original values. "
   ]
  },
  {
   "cell_type": "markdown",
   "id": "65316d44",
   "metadata": {},
   "source": [
    "# Summary"
   ]
  },
  {
   "cell_type": "markdown",
   "id": "d546b97c",
   "metadata": {},
   "source": [
    "If we increase the number of iterations the MAE and MSE is almost constant, with slight up and down variations based on particular input data. The model is behaving good in terms of accuracy and is able to capture future prediction trends. \n",
    "\n",
    "## Suggestions\n",
    "\n",
    "1. Increasing the input dataset may(not necessarily) decrease the overall error rate.\n",
    "2. Model is performing good enough and can be deployed in a practical scenario on test trials for further evaluation. \n",
    "\n"
   ]
  },
  {
   "cell_type": "code",
   "execution_count": null,
   "id": "26c93d55",
   "metadata": {},
   "outputs": [],
   "source": []
  }
 ],
 "metadata": {
  "kernelspec": {
   "display_name": "Python 3 (ipykernel)",
   "language": "python",
   "name": "python3"
  },
  "language_info": {
   "codemirror_mode": {
    "name": "ipython",
    "version": 3
   },
   "file_extension": ".py",
   "mimetype": "text/x-python",
   "name": "python",
   "nbconvert_exporter": "python",
   "pygments_lexer": "ipython3",
   "version": "3.9.7"
  },
  "toc": {
   "base_numbering": 1,
   "nav_menu": {},
   "number_sections": true,
   "sideBar": true,
   "skip_h1_title": false,
   "title_cell": "Table of Contents",
   "title_sidebar": "Contents",
   "toc_cell": false,
   "toc_position": {},
   "toc_section_display": true,
   "toc_window_display": false
  }
 },
 "nbformat": 4,
 "nbformat_minor": 5
}
