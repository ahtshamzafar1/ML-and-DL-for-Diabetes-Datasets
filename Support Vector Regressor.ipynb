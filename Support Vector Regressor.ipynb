{
 "cells": [
  {
   "cell_type": "markdown",
   "id": "90899241",
   "metadata": {},
   "source": [
    "# Table of Contents\n",
    "\n",
    "* [Introduction](#Introduction)\n",
    "* [Section 1 Functions-For-Processing](#Functions-For-Processing)\n",
    "    * [Section 1.1 Import Libraries](#Import-Libraries)\n",
    "    * [Section 1.2 Transform-a-time-series-dataset-into-a-supervised-learning-dataset](#Transform-a-time-series-dataset-into-a-supervised-learning-dataset)\n",
    "    * [Section 1.3 Split-a-univariate-dataset-into-train/test-sets](#Split-a-univariate-dataset-into-train/test-sets)\n",
    "    * [Section 1.4 Fit-an-random-forest-model-and-make-a-one-step-prediction](#Fit-an-random-forest-model-and-make-a-one-step-prediction)\n",
    "    * [Section 1.5 Walk-forward-validation-for-univariate-data](#Walk-forward-validation-for-univariate-data)\n",
    "* [Section 2 Processing-and-Evaluation](#Processing-and-Evaluation)\n",
    "     * [Section 2.1 Analysis-based-on-60-days-input-data](#Analysis-based-on-60-days-training-data)\n",
    "         * [Section 2.1.1 load-the-dataset](#Load-the-60-days-data)\n",
    "         * [Section 2.1.2 Evaluate](#Analysis-based-on-60-days-training-data)\n",
    "         * [Section 2.1.3 Insight](#Insight-for-60-days-Training-Data-Evaluation)\n",
    "     * [Section 2.2 Analysis-based-on-30-days-input-data](#Analysis-Based-On-30-Days-Training-Data)\n",
    "         * [Section 2.2.1 Load-the-data](#Load-the-30-days-data)\n",
    "         * [Section 2.2.2 Evaluate](#Analysis-based-on-30-days-training-data)\n",
    "         * [Section 2.2.3 Insight](#Insight-for-30-days-Training-Data)\n",
    "* [Section 3 Summary](#Summary)\n",
    "     * [Section 3.1 Suggestions](#Suggestions)\n",
    "         \n",
    "    \n",
    "\n"
   ]
  },
  {
   "cell_type": "markdown",
   "id": "f0d6bb78",
   "metadata": {},
   "source": [
    "# Introduction <a class=\"anchor\" id=\"Introduction\"></a>\n",
    "\n",
    "This notebook contains data analysis and processing of glucose data of a patient to obtain key insights and get future predictions of data. \n",
    "\n",
    "The notebook is divided into two sections:\n",
    "1. In the first section all the fuctions have been defined that can be called anywhere is the notebook. These functions include:\n",
    "\n",
    " a) Transform a time series dataset into a supervised learning dataset.\n",
    " \n",
    " b) Split a univariate dataset into train/test sets\n",
    " \n",
    " c) Fit a random forest model and make a one step prediction\n",
    " \n",
    " d) Walk-forward validation for univariate data\n",
    " \n",
    "\n",
    "2. The section 2 utilizes all the fuctions that have been developed in section 1 to evaluate and predict the results. \n",
    "\n",
    "## a) Transform a time series dataset into a supervised learning dataset\n",
    "This step transforms time series data into a supervised learning dataset for better prediction scores. The dataset is made in such a way that the original univariate data is provided multiple columns which, these colums have values from previous datapoints. Ths creates a dependency and colinear relation between datapoints as they progress. When this relation between datapoints is learned by the model, it performs better as compared to a non-supervised dataset. \n",
    "\n",
    "## b) Split a univariate dataset into train/test sets\n",
    "This step is key for any model, we need to divide our dataset into train and test sets. Generally a 80% train and 20% test is considered. \n",
    "\n",
    "##  c) Fit a SVR model and make a one step prediction\n",
    "In machine learning, Support Vector Machines are supervised learning models with associated learning algorithms that analyze data used for classification and regression analysis. In Support Vector Regression, the straight line that is required to fit the data is referred to as hyperplane.\n",
    "The objective of a support vector machine algorithm is to find a hyperplane in an n-dimensional space that distinctly classifies the data points. The data points on either side of the hyperplane that are closest to the hyperplane are called Support Vectors. These influence the position and orientation of the hyperplane and thus help build the SVM.\n",
    "\n",
    "\n",
    "## d) Walk-forward validation for univariate data\n",
    "Walk forward validation is an important step in this kind of data, specially if the data is continuously streaming in. We need a model that can cater for new data points while predicting the next data points. In this notebook, we perform a 12 point walk forward validation. \n",
    "\n",
    "In short we train our model on a specific amount of training data and predict the next 12 data points, after ths prediction the 12 predicted data points are then merged into the training data and next 12 data points are predicted. In this way we can take input from real time streaming data and add it to the process of predicting future values. "
   ]
  },
  {
   "cell_type": "markdown",
   "id": "6248b6ae",
   "metadata": {},
   "source": [
    "# Functions-For-Processing"
   ]
  },
  {
   "cell_type": "markdown",
   "id": "8a48ff24",
   "metadata": {},
   "source": [
    "## Import Libraries"
   ]
  },
  {
   "cell_type": "code",
   "execution_count": 1,
   "id": "d60de080",
   "metadata": {},
   "outputs": [],
   "source": [
    "import numpy as np\n",
    "import pandas as pd\n",
    "import time\n",
    "from numpy import asarray\n",
    "from pandas import read_csv\n",
    "from pandas import DataFrame\n",
    "from pandas import concat\n",
    "from sklearn.metrics import mean_absolute_error\n",
    "from sklearn.metrics import mean_squared_error\n",
    "from sklearn.svm import SVR\n",
    "from matplotlib import pyplot"
   ]
  },
  {
   "cell_type": "markdown",
   "id": "9e38e94d",
   "metadata": {},
   "source": [
    "## Transform a time series dataset into a supervised learning dataset\n",
    "\n",
    "This steps includes converting a naive time series data into a supervised dataset. The number of values to be used as lag for supervised dataset is sent as a parameter to the function. \n",
    "\n",
    "\n",
    "The function takes the original dataset and add columns infront of each data value. These columns are bascially the preceding values to that particular value, in the time series. "
   ]
  },
  {
   "cell_type": "code",
   "execution_count": 2,
   "id": "3477d273",
   "metadata": {},
   "outputs": [],
   "source": [
    "def series_to_supervised(data, n_in=1, n_out=1, dropnan=True):\n",
    "    n_vars = 1 if type(data) is list else data.shape[1]\n",
    "    df = DataFrame(data)\n",
    "    cols = list()\n",
    "    # input sequence (t-n, ... t-1)\n",
    "    for i in range(n_in, 0, -1):\n",
    "        cols.append(df.shift(i))\n",
    "    # forecast sequence (t, t+1, ... t+n)\n",
    "    for i in range(0, n_out):\n",
    "        cols.append(df.shift(-i))\n",
    "    # put it all together\n",
    "    agg = concat(cols, axis=1)\n",
    "    # drop rows with NaN values\n",
    "    if dropnan:\n",
    "        agg.dropna(inplace=True)\n",
    "    return agg.values"
   ]
  },
  {
   "cell_type": "markdown",
   "id": "1d9c564b",
   "metadata": {},
   "source": [
    "## Split a univariate dataset into train/test sets"
   ]
  },
  {
   "cell_type": "code",
   "execution_count": 3,
   "id": "3cdbfd43",
   "metadata": {},
   "outputs": [],
   "source": [
    "def train_test_split(data, n_test):\n",
    "    return data[:-n_test, :], data[-n_test:, :]"
   ]
  },
  {
   "cell_type": "markdown",
   "id": "06d55d89",
   "metadata": {},
   "source": [
    "## Fit a SVR model and make a one step prediction\n"
   ]
  },
  {
   "cell_type": "code",
   "execution_count": 4,
   "id": "711ee690",
   "metadata": {},
   "outputs": [],
   "source": [
    "def random_forest_forecast(train, testX):\n",
    "    # transform list into array\n",
    "    train = asarray(train)\n",
    "    # split into input and output columns\n",
    "    trainX, trainy = train[:, :-1], train[:, -1]\n",
    "    # fit model\n",
    "    model = SVR()\n",
    "    model.fit(trainX, trainy)\n",
    "    # make a one-step prediction\n",
    "    yhat = model.predict([testX])\n",
    "    return yhat[0]"
   ]
  },
  {
   "cell_type": "markdown",
   "id": "e0e32c78",
   "metadata": {},
   "source": [
    "## Walk-forward validation for univariate data\n"
   ]
  },
  {
   "cell_type": "code",
   "execution_count": 5,
   "id": "27135e63",
   "metadata": {},
   "outputs": [],
   "source": [
    "def walk_forward_validation(data, n_test):\n",
    "    data = series_to_supervised(data, n_in=6)\n",
    "    predictions = list()\n",
    "    # split dataset\n",
    "    train, test = train_test_split(data, n_test)\n",
    "    # seed history with training dataset\n",
    "    history = [x for x in train]\n",
    "    # step over each time-step in the test set\n",
    "    for i in range(len(test)):\n",
    "        # split test row into input and output columns\n",
    "        testX, testy = test[i, :-1], test[i, -1]\n",
    "        # fit model on history and make a prediction\n",
    "        yhat = random_forest_forecast(history, testX)\n",
    "        # store forecast in list of predictions\n",
    "        predictions.append(yhat)\n",
    "        # history.append(test[i]) # use only if: add actual observation to history for the next loop\n",
    "        # summarize progress\n",
    "        print('>expected=%.1f, predicted=%.1f' % (testy, yhat))\n",
    "    # estimate prediction error\n",
    "    error = mean_absolute_error(test[:, -1], predictions)\n",
    "    rmse = mean_squared_error(test[:, -1], predictions)\n",
    "    rmse = (rmse) ** (0.5)\n",
    "    return error, test[:, -1], predictions, rmse"
   ]
  },
  {
   "cell_type": "markdown",
   "id": "60390b80",
   "metadata": {},
   "source": [
    "# Processing-and-Evaluation"
   ]
  },
  {
   "cell_type": "markdown",
   "id": "2ea12a0d",
   "metadata": {},
   "source": [
    "## Analysis based on 60 days training data"
   ]
  },
  {
   "cell_type": "markdown",
   "id": "388d0bdd",
   "metadata": {},
   "source": [
    "### Load the 60 days data"
   ]
  },
  {
   "cell_type": "code",
   "execution_count": 6,
   "id": "d432acb9",
   "metadata": {},
   "outputs": [
    {
     "data": {
      "text/html": [
       "<div>\n",
       "<style scoped>\n",
       "    .dataframe tbody tr th:only-of-type {\n",
       "        vertical-align: middle;\n",
       "    }\n",
       "\n",
       "    .dataframe tbody tr th {\n",
       "        vertical-align: top;\n",
       "    }\n",
       "\n",
       "    .dataframe thead th {\n",
       "        text-align: right;\n",
       "    }\n",
       "</style>\n",
       "<table border=\"1\" class=\"dataframe\">\n",
       "  <thead>\n",
       "    <tr style=\"text-align: right;\">\n",
       "      <th></th>\n",
       "      <th>0</th>\n",
       "    </tr>\n",
       "  </thead>\n",
       "  <tbody>\n",
       "    <tr>\n",
       "      <th>count</th>\n",
       "      <td>17274.000000</td>\n",
       "    </tr>\n",
       "    <tr>\n",
       "      <th>mean</th>\n",
       "      <td>129.411485</td>\n",
       "    </tr>\n",
       "    <tr>\n",
       "      <th>std</th>\n",
       "      <td>41.198385</td>\n",
       "    </tr>\n",
       "    <tr>\n",
       "      <th>min</th>\n",
       "      <td>39.000000</td>\n",
       "    </tr>\n",
       "    <tr>\n",
       "      <th>25%</th>\n",
       "      <td>102.000000</td>\n",
       "    </tr>\n",
       "    <tr>\n",
       "      <th>50%</th>\n",
       "      <td>122.000000</td>\n",
       "    </tr>\n",
       "    <tr>\n",
       "      <th>75%</th>\n",
       "      <td>150.000000</td>\n",
       "    </tr>\n",
       "    <tr>\n",
       "      <th>max</th>\n",
       "      <td>386.000000</td>\n",
       "    </tr>\n",
       "  </tbody>\n",
       "</table>\n",
       "</div>"
      ],
      "text/plain": [
       "                  0\n",
       "count  17274.000000\n",
       "mean     129.411485\n",
       "std       41.198385\n",
       "min       39.000000\n",
       "25%      102.000000\n",
       "50%      122.000000\n",
       "75%      150.000000\n",
       "max      386.000000"
      ]
     },
     "execution_count": 6,
     "metadata": {},
     "output_type": "execute_result"
    },
    {
     "data": {
      "image/png": "[encoded data removed]",
      "text/plain": [
       "<Figure size 432x288 with 1 Axes>"
      ]
     },
     "metadata": {
      "needs_background": "light"
     },
     "output_type": "display_data"
    }
   ],
   "source": [
    "series = read_csv(\n",
    "    r'C:\\Users\\ahtis\\OneDrive\\Desktop\\data\\data.csv', header=0, index_col=0)\n",
    "values = series.values\n",
    "\n",
    "# Read 60 days of data from the dataset for validation. Each datapoint is recorded with 5 minute interval in between.\n",
    "# (12 points in an hour, 288 points in a day, 17280 in 60 days)\n",
    "\n",
    "data = values[0:17280]\n",
    "data1 = values[0:17280]\n",
    "pyplot.plot(data, label='Glucose Data')\n",
    "\n",
    "pyplot.xlabel('Data Index')\n",
    "pyplot.ylabel('Glucose Level (mg/dL)')\n",
    "\n",
    "data1 = pd.DataFrame(data)\n",
    "data1.describe()"
   ]
  },
  {
   "cell_type": "markdown",
   "id": "7f6772ef",
   "metadata": {},
   "source": [
    "### Analysis based on 60 days training data"
   ]
  },
  {
   "cell_type": "code",
   "execution_count": 7,
   "id": "a275ebcb",
   "metadata": {},
   "outputs": [
    {
     "name": "stdout",
     "output_type": "stream",
     "text": [
      ">expected=84.0, predicted=81.0\n",
      ">expected=85.0, predicted=83.4\n",
      ">expected=86.0, predicted=84.9\n",
      ">expected=86.0, predicted=86.4\n",
      ">expected=82.0, predicted=86.7\n",
      ">expected=82.0, predicted=82.6\n",
      ">expected=88.0, predicted=82.1\n",
      ">expected=91.0, predicted=88.4\n",
      ">expected=96.0, predicted=92.3\n",
      ">expected=96.0, predicted=98.5\n",
      ">expected=102.0, predicted=98.8\n",
      ">expected=105.0, predicted=105.2\n",
      ">expected=111.0, predicted=108.1\n",
      ">expected=113.0, predicted=114.7\n",
      ">expected=111.0, predicted=116.2\n",
      ">expected=110.0, predicted=112.7\n",
      ">expected=111.0, predicted=110.5\n",
      ">expected=110.0, predicted=111.2\n",
      ">expected=114.0, predicted=109.7\n",
      ">expected=116.0, predicted=115.0\n",
      ">expected=112.0, predicted=117.5\n",
      ">expected=110.0, predicted=111.9\n",
      ">expected=104.0, predicted=109.2\n",
      ">expected=102.0, predicted=101.8\n",
      ">expected=101.0, predicted=99.7\n",
      ">expected=99.0, predicted=99.4\n",
      ">expected=99.0, predicted=97.7\n",
      ">expected=99.0, predicted=98.4\n",
      ">expected=99.0, predicted=98.8\n",
      ">expected=99.0, predicted=99.0\n",
      ">expected=102.0, predicted=99.2\n",
      ">expected=108.0, predicted=103.0\n",
      ">expected=111.0, predicted=110.5\n",
      ">expected=112.0, predicted=113.9\n",
      ">expected=113.0, predicted=114.4\n",
      ">expected=115.0, predicted=114.8\n",
      ">expected=116.0, predicted=116.5\n",
      ">expected=117.0, predicted=117.0\n",
      ">expected=118.0, predicted=117.9\n",
      ">expected=119.0, predicted=118.8\n",
      ">expected=120.0, predicted=119.7\n",
      ">expected=121.0, predicted=120.7\n",
      ">expected=117.0, predicted=121.6\n",
      ">expected=117.0, predicted=116.1\n",
      ">expected=119.0, predicted=116.1\n",
      ">expected=120.0, predicted=119.0\n",
      ">expected=120.0, predicted=120.4\n",
      ">expected=121.0, predicted=120.4\n",
      ">expected=118.0, predicted=121.5\n",
      ">expected=118.0, predicted=117.3\n",
      ">expected=119.0, predicted=117.3\n",
      ">expected=120.0, predicted=118.8\n",
      ">expected=116.0, predicted=120.2\n",
      ">expected=118.0, predicted=115.0\n",
      ">expected=119.0, predicted=117.8\n",
      ">expected=117.0, predicted=119.2\n",
      ">expected=118.0, predicted=116.5\n",
      ">expected=115.0, predicted=118.0\n",
      ">expected=115.0, predicted=114.0\n",
      ">expected=117.0, predicted=114.2\n",
      ">expected=126.0, predicted=117.1\n",
      ">expected=127.0, predicted=129.3\n",
      ">expected=133.0, predicted=129.8\n",
      ">expected=136.0, predicted=136.4\n",
      ">expected=139.0, predicted=139.0\n",
      ">expected=150.0, predicted=141.6\n",
      ">expected=156.0, predicted=154.8\n",
      ">expected=162.0, predicted=160.8\n",
      ">expected=165.0, predicted=166.4\n",
      ">expected=167.0, predicted=168.3\n",
      ">expected=171.0, predicted=169.2\n",
      ">expected=173.0, predicted=172.8\n",
      "MAE: 2.026\n",
      "RMSE: 2.780\n"
     ]
    },
    {
     "data": {
      "image/png": "[encoded data removed]",
      "text/plain": [
       "<Figure size 432x288 with 1 Axes>"
      ]
     },
     "metadata": {
      "needs_background": "light"
     },
     "output_type": "display_data"
    },
    {
     "name": "stdout",
     "output_type": "stream",
     "text": [
      "--- 1296.216364622116 seconds ---\n"
     ]
    }
   ],
   "source": [
    "mean_abs_error = list()\n",
    "start_time = time.time()\n",
    "for i in range(1):\n",
    "    mae, y, yhat,rmse = walk_forward_validation(data, 72)\n",
    "    print('MAE: %.3f' % mae)\n",
    "    print('RMSE: %.3f' % rmse)\n",
    "    #data = values[len(data)-2:len(data)+len(data)-2, :]\n",
    "    #yhat = np.asarray(yhat)\n",
    "    # print('yhat',yhat.shape)\n",
    "    #yhat_append = series_to_supervised(yhat, n_in=6)\n",
    "    #print('yhat append',yhat_append.shape)\n",
    "    #y_append = np.asarray(y)\n",
    "    #data = np.append(data, y_append)\n",
    "    #data = np.reshape(data, (-1, 1))\n",
    "    data = values[0:len(data)+72,:]\n",
    "    mean_abs_error.append(mae)\n",
    "    pyplot.plot(y, label='Expected')\n",
    "    pyplot.plot(yhat, label='Predicted')\n",
    "    pyplot.xlabel(\"Data Points\")\n",
    "    pyplot.ylabel(\"Glucose Level(mg/dL)\")\n",
    "    #pyplot.title('Loss: MAE = %f' % (mae) , 'Loss: MSE = %f' % (mse) )\n",
    "    pyplot.legend()\n",
    "    pyplot.show()\n",
    "\n",
    "print(\"--- %s seconds ---\" % (time.time() - start_time))"
   ]
  },
  {
   "cell_type": "markdown",
   "id": "1dcb0456",
   "metadata": {},
   "source": [
    "### Insight for 60 days Training Data Evaluation"
   ]
  },
  {
   "cell_type": "markdown",
   "id": "c186872d",
   "metadata": {},
   "source": [
    "Using the 60 Day time period for our data, we are able to iterate two time over the data set. Here we are predicting next 72 points which is next 6 hours of data. \n",
    "\n",
    "The Key Insight is that as we progress in the foward 72 step validation the MAE and MSE remains almost constant. \n",
    "\n",
    "Model is considered to be useful if MAE and RMSE is less than 6/7 in general, since the trend is maintained and loss parameters are in desired range the model can be considered for further testing. Higher MAE/RMSE can further distort the prediction as compared to original values. "
   ]
  },
  {
   "cell_type": "markdown",
   "id": "205c8f13",
   "metadata": {},
   "source": [
    "## Analysis Based On 30 Days Training Data"
   ]
  },
  {
   "cell_type": "markdown",
   "id": "5b836beb",
   "metadata": {},
   "source": [
    "### Load the 30 days data"
   ]
  },
  {
   "cell_type": "code",
   "execution_count": 8,
   "id": "dda92d2c",
   "metadata": {},
   "outputs": [
    {
     "data": {
      "text/html": [
       "<div>\n",
       "<style scoped>\n",
       "    .dataframe tbody tr th:only-of-type {\n",
       "        vertical-align: middle;\n",
       "    }\n",
       "\n",
       "    .dataframe tbody tr th {\n",
       "        vertical-align: top;\n",
       "    }\n",
       "\n",
       "    .dataframe thead th {\n",
       "        text-align: right;\n",
       "    }\n",
       "</style>\n",
       "<table border=\"1\" class=\"dataframe\">\n",
       "  <thead>\n",
       "    <tr style=\"text-align: right;\">\n",
       "      <th></th>\n",
       "      <th>0</th>\n",
       "    </tr>\n",
       "  </thead>\n",
       "  <tbody>\n",
       "    <tr>\n",
       "      <th>count</th>\n",
       "      <td>8634.000000</td>\n",
       "    </tr>\n",
       "    <tr>\n",
       "      <th>mean</th>\n",
       "      <td>131.939889</td>\n",
       "    </tr>\n",
       "    <tr>\n",
       "      <th>std</th>\n",
       "      <td>44.110320</td>\n",
       "    </tr>\n",
       "    <tr>\n",
       "      <th>min</th>\n",
       "      <td>39.000000</td>\n",
       "    </tr>\n",
       "    <tr>\n",
       "      <th>25%</th>\n",
       "      <td>102.000000</td>\n",
       "    </tr>\n",
       "    <tr>\n",
       "      <th>50%</th>\n",
       "      <td>125.000000</td>\n",
       "    </tr>\n",
       "    <tr>\n",
       "      <th>75%</th>\n",
       "      <td>154.000000</td>\n",
       "    </tr>\n",
       "    <tr>\n",
       "      <th>max</th>\n",
       "      <td>386.000000</td>\n",
       "    </tr>\n",
       "  </tbody>\n",
       "</table>\n",
       "</div>"
      ],
      "text/plain": [
       "                 0\n",
       "count  8634.000000\n",
       "mean    131.939889\n",
       "std      44.110320\n",
       "min      39.000000\n",
       "25%     102.000000\n",
       "50%     125.000000\n",
       "75%     154.000000\n",
       "max     386.000000"
      ]
     },
     "execution_count": 8,
     "metadata": {},
     "output_type": "execute_result"
    },
    {
     "data": {
      "image/png": "[encoded data removed]",
      "text/plain": [
       "<Figure size 432x288 with 1 Axes>"
      ]
     },
     "metadata": {
      "needs_background": "light"
     },
     "output_type": "display_data"
    }
   ],
   "source": [
    "series = read_csv(\n",
    "    r'C:\\Users\\ahtis\\OneDrive\\Desktop\\data\\data.csv', header=0, index_col=0)\n",
    "values = series.values\n",
    "\n",
    "# Read 60 days of data from the dataset for validation. Each datapoint is recorded with 5 minute interval in between.\n",
    "# (12 points in an hour, 288 points in a day, 8640 in 30 days)\n",
    "\n",
    "data = values[0:8640]\n",
    "data1 = values[0:8640]\n",
    "pyplot.plot(data, label='Glucose Data')\n",
    "\n",
    "pyplot.xlabel('Data Index')\n",
    "pyplot.ylabel('Glucose Level (mg/dL)')\n",
    "\n",
    "data1 = pd.DataFrame(data)\n",
    "data1.describe()"
   ]
  },
  {
   "cell_type": "markdown",
   "id": "193214d8",
   "metadata": {},
   "source": [
    "### Analysis based on 30 days training data"
   ]
  },
  {
   "cell_type": "code",
   "execution_count": 9,
   "id": "287c549d",
   "metadata": {
    "scrolled": true
   },
   "outputs": [
    {
     "name": "stdout",
     "output_type": "stream",
     "text": [
      ">expected=110.0, predicted=110.9\n",
      ">expected=110.0, predicted=111.8\n",
      ">expected=113.0, predicted=111.6\n",
      ">expected=116.0, predicted=114.3\n",
      ">expected=116.0, predicted=117.5\n",
      ">expected=116.0, predicted=117.6\n",
      ">expected=120.0, predicted=117.2\n",
      ">expected=121.0, predicted=121.2\n",
      ">expected=122.0, predicted=122.3\n",
      ">expected=124.0, predicted=123.2\n",
      ">expected=126.0, predicted=125.2\n",
      ">expected=127.0, predicted=127.2\n",
      ">expected=127.0, predicted=128.1\n",
      ">expected=126.0, predicted=127.8\n",
      ">expected=127.0, predicted=126.2\n",
      ">expected=127.0, predicted=126.9\n",
      ">expected=127.0, predicted=126.8\n",
      ">expected=127.0, predicted=126.8\n",
      ">expected=128.0, predicted=126.8\n",
      ">expected=128.0, predicted=127.9\n",
      ">expected=128.0, predicted=127.9\n",
      ">expected=128.0, predicted=127.9\n",
      ">expected=128.0, predicted=127.8\n",
      ">expected=128.0, predicted=127.7\n",
      ">expected=130.0, predicted=127.7\n",
      ">expected=131.0, predicted=130.0\n",
      ">expected=134.0, predicted=131.3\n",
      ">expected=135.0, predicted=134.8\n",
      ">expected=136.0, predicted=136.1\n",
      ">expected=138.0, predicted=136.9\n",
      ">expected=143.0, predicted=138.9\n",
      ">expected=146.0, predicted=144.4\n",
      ">expected=153.0, predicted=147.9\n",
      ">expected=158.0, predicted=155.6\n",
      ">expected=160.0, predicted=161.3\n",
      ">expected=160.0, predicted=163.1\n",
      ">expected=162.0, predicted=162.3\n",
      ">expected=162.0, predicted=163.2\n",
      ">expected=165.0, predicted=162.5\n",
      ">expected=167.0, predicted=165.1\n",
      ">expected=167.0, predicted=167.4\n",
      ">expected=168.0, predicted=167.6\n",
      ">expected=163.0, predicted=168.2\n",
      ">expected=158.0, predicted=162.7\n",
      ">expected=158.0, predicted=156.0\n",
      ">expected=158.0, predicted=155.0\n",
      ">expected=158.0, predicted=155.5\n",
      ">expected=158.0, predicted=156.2\n",
      ">expected=158.0, predicted=157.0\n",
      ">expected=160.0, predicted=157.3\n",
      ">expected=162.0, predicted=159.5\n",
      ">expected=163.0, predicted=162.0\n",
      ">expected=162.0, predicted=163.4\n",
      ">expected=163.0, predicted=162.2\n",
      ">expected=158.0, predicted=162.8\n",
      ">expected=155.0, predicted=157.2\n",
      ">expected=155.0, predicted=152.9\n",
      ">expected=153.0, predicted=152.5\n",
      ">expected=152.0, predicted=150.8\n",
      ">expected=152.0, predicted=150.0\n",
      ">expected=148.0, predicted=150.5\n",
      ">expected=145.0, predicted=146.5\n",
      ">expected=143.0, predicted=142.9\n",
      ">expected=139.0, predicted=140.6\n",
      ">expected=129.0, predicted=136.4\n",
      ">expected=116.0, predicted=125.7\n",
      ">expected=108.0, predicted=111.8\n",
      ">expected=102.0, predicted=103.5\n",
      ">expected=98.0, predicted=98.3\n",
      ">expected=98.0, predicted=95.4\n",
      ">expected=101.0, predicted=95.9\n",
      ">expected=106.0, predicted=99.8\n",
      "MAE: 1.880\n",
      "RMSE: 2.613\n"
     ]
    },
    {
     "data": {
      "image/png": "[encoded data removed]",
      "text/plain": [
       "<Figure size 432x288 with 1 Axes>"
      ]
     },
     "metadata": {
      "needs_background": "light"
     },
     "output_type": "display_data"
    },
    {
     "name": "stdout",
     "output_type": "stream",
     "text": [
      ">expected=111.0, predicted=106.5\n",
      ">expected=115.0, predicted=113.3\n",
      ">expected=119.0, predicted=118.5\n",
      ">expected=125.0, predicted=122.8\n",
      ">expected=131.0, predicted=128.8\n",
      ">expected=138.0, predicted=134.9\n",
      ">expected=142.0, predicted=142.2\n",
      ">expected=150.0, predicted=146.1\n",
      ">expected=156.0, predicted=154.0\n",
      ">expected=164.0, predicted=160.1\n",
      ">expected=172.0, predicted=168.0\n",
      ">expected=180.0, predicted=176.0\n",
      ">expected=187.0, predicted=183.6\n",
      ">expected=193.0, predicted=190.1\n",
      ">expected=196.0, predicted=195.5\n",
      ">expected=191.0, predicted=198.2\n",
      ">expected=185.0, predicted=193.5\n",
      ">expected=180.0, predicted=185.6\n",
      ">expected=167.0, predicted=178.1\n",
      ">expected=150.0, predicted=163.9\n",
      ">expected=132.0, predicted=145.9\n",
      ">expected=112.0, predicted=128.3\n",
      ">expected=100.0, predicted=112.4\n",
      ">expected=90.0, predicted=103.0\n",
      ">expected=82.0, predicted=94.0\n",
      ">expected=81.0, predicted=85.7\n",
      ">expected=84.0, predicted=82.2\n",
      ">expected=88.0, predicted=82.9\n",
      ">expected=93.0, predicted=87.0\n",
      ">expected=96.0, predicted=93.2\n",
      ">expected=101.0, predicted=97.9\n",
      ">expected=103.0, predicted=103.8\n",
      ">expected=107.0, predicted=106.2\n",
      ">expected=113.0, predicted=110.1\n",
      ">expected=119.0, predicted=116.3\n",
      ">expected=125.0, predicted=122.9\n",
      ">expected=130.0, predicted=129.4\n",
      ">expected=133.0, predicted=134.5\n",
      ">expected=137.0, predicted=137.0\n",
      ">expected=139.0, predicted=140.3\n",
      ">expected=142.0, predicted=141.7\n",
      ">expected=143.0, predicted=144.1\n",
      ">expected=145.0, predicted=144.7\n",
      ">expected=143.0, predicted=146.3\n",
      ">expected=142.0, predicted=143.7\n",
      ">expected=138.0, predicted=141.7\n",
      ">expected=134.0, predicted=136.8\n",
      ">expected=126.0, predicted=131.7\n",
      ">expected=118.0, predicted=122.7\n",
      ">expected=107.0, predicted=113.9\n",
      ">expected=96.0, predicted=102.9\n",
      ">expected=92.0, predicted=92.7\n",
      ">expected=90.0, predicted=89.4\n",
      ">expected=92.0, predicted=88.2\n",
      ">expected=90.0, predicted=90.6\n",
      ">expected=85.0, predicted=89.3\n",
      ">expected=85.0, predicted=84.7\n",
      ">expected=84.0, predicted=84.2\n",
      ">expected=83.0, predicted=83.2\n",
      ">expected=81.0, predicted=82.1\n",
      ">expected=84.0, predicted=80.5\n",
      ">expected=84.0, predicted=83.2\n",
      ">expected=86.0, predicted=83.7\n",
      ">expected=87.0, predicted=85.9\n",
      ">expected=89.0, predicted=87.3\n",
      ">expected=92.0, predicted=89.6\n",
      ">expected=94.0, predicted=92.6\n",
      ">expected=96.0, predicted=95.1\n",
      ">expected=99.0, predicted=97.4\n",
      ">expected=101.0, predicted=100.6\n",
      ">expected=103.0, predicted=102.8\n",
      ">expected=104.0, predicted=104.9\n",
      "MAE: 3.549\n",
      "RMSE: 5.157\n"
     ]
    },
    {
     "data": {
      "image/png": "[encoded data removed]",
      "text/plain": [
       "<Figure size 432x288 with 1 Axes>"
      ]
     },
     "metadata": {
      "needs_background": "light"
     },
     "output_type": "display_data"
    },
    {
     "name": "stdout",
     "output_type": "stream",
     "text": [
      ">expected=106.0, predicted=105.9\n",
      ">expected=108.0, predicted=107.7\n",
      ">expected=106.0, predicted=109.6\n",
      ">expected=105.0, predicted=107.3\n",
      ">expected=103.0, predicted=105.6\n",
      ">expected=101.0, predicted=103.0\n",
      ">expected=100.0, predicted=100.4\n",
      ">expected=99.0, predicted=99.1\n",
      ">expected=99.0, predicted=98.3\n",
      ">expected=99.0, predicted=98.4\n",
      ">expected=99.0, predicted=98.7\n",
      ">expected=100.0, predicted=99.0\n",
      ">expected=100.0, predicted=100.2\n",
      ">expected=98.0, predicted=100.4\n",
      ">expected=100.0, predicted=98.3\n",
      ">expected=105.0, predicted=100.1\n",
      ">expected=106.0, predicted=105.7\n",
      ">expected=106.0, predicted=107.6\n",
      ">expected=104.0, predicted=107.8\n",
      ">expected=104.0, predicted=105.4\n",
      ">expected=106.0, predicted=104.5\n",
      ">expected=106.0, predicted=106.1\n",
      ">expected=106.0, predicted=106.4\n",
      ">expected=107.0, predicted=106.5\n",
      ">expected=105.0, predicted=107.7\n",
      ">expected=102.0, predicted=105.5\n",
      ">expected=103.0, predicted=101.8\n",
      ">expected=103.0, predicted=102.5\n",
      ">expected=101.0, predicted=102.7\n",
      ">expected=96.0, predicted=100.8\n",
      ">expected=96.0, predicted=95.6\n",
      ">expected=97.0, predicted=95.1\n",
      ">expected=98.0, predicted=96.1\n",
      ">expected=98.0, predicted=97.6\n",
      ">expected=100.0, predicted=98.3\n",
      ">expected=104.0, predicted=100.7\n",
      ">expected=105.0, predicted=105.2\n",
      ">expected=103.0, predicted=106.7\n",
      ">expected=102.0, predicted=104.6\n",
      ">expected=103.0, predicted=102.9\n",
      ">expected=106.0, predicted=103.3\n",
      ">expected=108.0, predicted=106.3\n",
      ">expected=110.0, predicted=109.1\n",
      ">expected=115.0, predicted=111.7\n",
      ">expected=116.0, predicted=117.3\n",
      ">expected=116.0, predicted=118.5\n",
      ">expected=112.0, predicted=118.0\n",
      ">expected=112.0, predicted=112.9\n",
      ">expected=114.0, predicted=111.8\n",
      ">expected=116.0, predicted=113.5\n",
      ">expected=119.0, predicted=116.2\n",
      ">expected=123.0, predicted=120.1\n",
      ">expected=127.0, predicted=125.0\n",
      ">expected=133.0, predicted=129.5\n",
      ">expected=138.0, predicted=136.1\n",
      ">expected=140.0, predicted=141.5\n",
      ">expected=142.0, predicted=143.3\n",
      ">expected=146.0, predicted=144.6\n",
      ">expected=153.0, predicted=148.2\n",
      ">expected=154.0, predicted=155.6\n",
      ">expected=156.0, predicted=156.8\n",
      ">expected=155.0, predicted=158.3\n",
      ">expected=158.0, predicted=156.5\n",
      ">expected=166.0, predicted=158.6\n",
      ">expected=167.0, predicted=167.1\n",
      ">expected=168.0, predicted=169.2\n",
      ">expected=168.0, predicted=169.8\n",
      ">expected=162.0, predicted=169.1\n",
      ">expected=145.0, predicted=161.8\n",
      ">expected=152.0, predicted=142.2\n",
      ">expected=152.0, predicted=146.5\n",
      ">expected=160.0, predicted=148.9\n",
      "MAE: 2.459\n",
      "RMSE: 3.681\n"
     ]
    },
    {
     "data": {
      "image/png": "[encoded data removed]",
      "text/plain": [
       "<Figure size 432x288 with 1 Axes>"
      ]
     },
     "metadata": {
      "needs_background": "light"
     },
     "output_type": "display_data"
    },
    {
     "name": "stdout",
     "output_type": "stream",
     "text": [
      "--- 983.2772393226624 seconds ---\n"
     ]
    }
   ],
   "source": [
    "mean_abs_error = list()\n",
    "start_time1 = time.time()\n",
    "for i in range(1):\n",
    "    mae, y, yhat, rmse = walk_forward_validation(data, 72)\n",
    "    print('MAE: %.3f' % mae)\n",
    "    print('RMSE: %.3f' % rmse)\n",
    "    #data = values[len(data)-2:len(data)+len(data)-2, :]\n",
    "    #yhat = np.asarray(yhat)\n",
    "    # print('yhat',yhat.shape)\n",
    "    #yhat_append = series_to_supervised(yhat, n_in=6)\n",
    "    #print('yhat append',yhat_append.shape)\n",
    "    #y_append = np.asarray(y)\n",
    "    #data = np.append(data, y_append)\n",
    "    #data = np.reshape(data, (-1, 1))\n",
    "    data = values[0:len(data)+72,:]\n",
    "    mean_abs_error.append(mae)\n",
    "    pyplot.plot(y, label='Expected')\n",
    "    pyplot.plot(yhat, label='Predicted')\n",
    "    pyplot.xlabel(\"Data Points\")\n",
    "    pyplot.ylabel(\"Glucose Level(mg/dL)\")\n",
    "   # pyplot.title('Loss: MAE = %f' % (mae) ,'Loss: MSE = %f' % (mse))\n",
    "    pyplot.legend()\n",
    "    pyplot.show()\n",
    "print(\"--- %s seconds ---\" % (time.time() - start_time1))"
   ]
  },
  {
   "cell_type": "markdown",
   "id": "c96b428e",
   "metadata": {},
   "source": [
    "### Insight for 30 days Training Data"
   ]
  },
  {
   "cell_type": "markdown",
   "id": "f11bafe3",
   "metadata": {},
   "source": [
    "Using the 30 Day time period for our data, we are able to iterate four times over the data set. Here we are predicting next 72 points which is next 6 hours of data. \n",
    "\n",
    "The Key Insight is that as we progress in the foward 72 step validation the MAE and MSE almost remains constant. \n",
    "\n",
    "Model is considered to be useful if MAE and RMSE is less than 6/7 in general, since the trend is maintained and loss parameters are in desired range the model can be considered for further testing. Higher MAE/RMSE can further distort the prediction as compared to original values. "
   ]
  },
  {
   "cell_type": "markdown",
   "id": "65316d44",
   "metadata": {},
   "source": [
    "# Summary"
   ]
  },
  {
   "cell_type": "markdown",
   "id": "d546b97c",
   "metadata": {},
   "source": [
    "If we increase the number of iterations the MAE and MSE is almost constant, with slight up and down variations based on particular input data. The model is behaving good in terms of accuracy and is able to capture future prediction trends. \n",
    "\n",
    "## Suggestions\n",
    "\n",
    "1. Increasing the input dataset may(not necessarily) decrease the overall error rate.\n",
    "2. Model is performing good enough and can be deployed in a practical scenario on test trials for further evaluation. \n",
    "\n"
   ]
  },
  {
   "cell_type": "code",
   "execution_count": null,
   "id": "26c93d55",
   "metadata": {},
   "outputs": [],
   "source": []
  }
 ],
 "metadata": {
  "kernelspec": {
   "display_name": "Python 3 (ipykernel)",
   "language": "python",
   "name": "python3"
  },
  "language_info": {
   "codemirror_mode": {
    "name": "ipython",
    "version": 3
   },
   "file_extension": ".py",
   "mimetype": "text/x-python",
   "name": "python",
   "nbconvert_exporter": "python",
   "pygments_lexer": "ipython3",
   "version": "3.9.7"
  },
  "toc": {
   "base_numbering": 1,
   "nav_menu": {},
   "number_sections": true,
   "sideBar": true,
   "skip_h1_title": false,
   "title_cell": "Table of Contents",
   "title_sidebar": "Contents",
   "toc_cell": false,
   "toc_position": {},
   "toc_section_display": true,
   "toc_window_display": false
  }
 },
 "nbformat": 4,
 "nbformat_minor": 5
}
