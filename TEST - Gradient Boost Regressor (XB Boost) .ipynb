{
 "cells": [
  {
   "cell_type": "markdown",
   "id": "e63e9e5c",
   "metadata": {},
   "source": [
    "# Import Libraries"
   ]
  },
  {
   "cell_type": "code",
   "execution_count": 1,
   "id": "d60de080",
   "metadata": {},
   "outputs": [],
   "source": [
    "from numpy import asarray\n",
    "from pandas import read_csv\n",
    "from pandas import DataFrame\n",
    "from pandas import concat\n",
    "from sklearn.metrics import mean_absolute_error\n",
    "from sklearn import datasets, ensemble\n",
    "from matplotlib import pyplot"
   ]
  },
  {
   "cell_type": "markdown",
   "id": "a6019d7f",
   "metadata": {},
   "source": [
    "# Transform a time series dataset into a supervised learning dataset\n",
    "\n",
    "This steps includes converting a naive time series data into a supervised dataset. The number of values to be used as lag for supervised dataset is sent as a parameter to the function. \n"
   ]
  },
  {
   "cell_type": "code",
   "execution_count": 2,
   "id": "01a886be",
   "metadata": {},
   "outputs": [],
   "source": [
    "def series_to_supervised(data, n_in=1, n_out=1, dropnan=True):\n",
    "    n_vars = 1 if type(data) is list else data.shape[1]\n",
    "    df = DataFrame(data)\n",
    "    cols = list()\n",
    "    # input sequence (t-n, ... t-1)\n",
    "    for i in range(n_in, 0, -1):\n",
    "        cols.append(df.shift(i))\n",
    "    # forecast sequence (t, t+1, ... t+n)\n",
    "    for i in range(0, n_out):\n",
    "        cols.append(df.shift(-i))\n",
    "    # put it all together\n",
    "    agg = concat(cols, axis=1)\n",
    "    # drop rows with NaN values\n",
    "    if dropnan:\n",
    "        agg.dropna(inplace=True)\n",
    "    return agg.values"
   ]
  },
  {
   "cell_type": "markdown",
   "id": "04207de2",
   "metadata": {},
   "source": [
    "# Split a univariate dataset into train/test sets\n"
   ]
  },
  {
   "cell_type": "code",
   "execution_count": 3,
   "id": "b3b24774",
   "metadata": {},
   "outputs": [],
   "source": [
    "def train_test_split(data, n_test):\n",
    "    return data[:-n_test, :], data[-n_test:, :]"
   ]
  },
  {
   "cell_type": "markdown",
   "id": "cca815a8",
   "metadata": {},
   "source": [
    "# Fit a gradient boost regressor and make a one step prediction\n"
   ]
  },
  {
   "cell_type": "code",
   "execution_count": 4,
   "id": "f1b80103",
   "metadata": {},
   "outputs": [],
   "source": [
    "def gradient_boost_forecast(train, testX):\n",
    "    # transform list into array\n",
    "    train = asarray(train)\n",
    "    # split into input and output columns\n",
    "    trainX, trainy = train[:, :-1], train[:, -1]\n",
    "    # fit model\n",
    "    model = ensemble.GradientBoostingRegressor()\n",
    "    model.fit(trainX, trainy)\n",
    "    # make a one-step prediction\n",
    "    yhat = model.predict([testX])\n",
    "    return yhat[0]"
   ]
  },
  {
   "cell_type": "markdown",
   "id": "e34db20d",
   "metadata": {},
   "source": [
    "# Walk-forward validation for univariate data\n"
   ]
  },
  {
   "cell_type": "code",
   "execution_count": 5,
   "id": "27135e63",
   "metadata": {},
   "outputs": [],
   "source": [
    "def walk_forward_validation(data, n_test):\n",
    "    predictions = list()\n",
    "    # split dataset\n",
    "    train, test = train_test_split(data, n_test)\n",
    "    # seed history with training dataset\n",
    "    history = [x for x in train]\n",
    "    # step over each time-step in the test set\n",
    "    for i in range(len(test)):\n",
    "        # split test row into input and output columns\n",
    "        testX, testy = test[i, :-1], test[i, -1]\n",
    "        # fit model on history and make a prediction\n",
    "        yhat = gradient_boost_forecast(history, testX)\n",
    "        # store forecast in list of predictions\n",
    "        predictions.append(yhat)\n",
    "        # add actual observation to history for the next loop\n",
    "        #history.append(test[i])\n",
    "        # summarize progress\n",
    "        print('>expected=%.1f, predicted=%.1f' % (testy, yhat))\n",
    "    # estimate prediction error\n",
    "    error = mean_absolute_error(test[:, -1], predictions)\n",
    "    return error, test[:, -1], predictions"
   ]
  },
  {
   "cell_type": "markdown",
   "id": "46e88cee",
   "metadata": {},
   "source": [
    "# load the dataset\n"
   ]
  },
  {
   "cell_type": "code",
   "execution_count": 6,
   "id": "f9bed751",
   "metadata": {},
   "outputs": [
    {
     "data": {
      "text/plain": [
       "[<matplotlib.lines.Line2D at 0x20dc96d54f0>]"
      ]
     },
     "execution_count": 6,
     "metadata": {},
     "output_type": "execute_result"
    },
    {
     "data": {
      "image/png": "[encoded data removed]",
      "text/plain": [
       "<Figure size 432x288 with 1 Axes>"
      ]
     },
     "metadata": {
      "needs_background": "light"
     },
     "output_type": "display_data"
    }
   ],
   "source": [
    "series = read_csv(\n",
    "    r'C:\\Users\\ahtis\\OneDrive\\Desktop\\ARIMA\\data\\data.csv', header=0, index_col=0)\n",
    "values = series.values\n",
    "pyplot.plot(values, label='Original Glucose Data')"
   ]
  },
  {
   "cell_type": "markdown",
   "id": "ec50c905",
   "metadata": {},
   "source": [
    "# Transform the time series data into supervised learning\n"
   ]
  },
  {
   "cell_type": "code",
   "execution_count": 7,
   "id": "ce1c6620",
   "metadata": {},
   "outputs": [
    {
     "data": {
      "text/plain": [
       "(17270, 2)"
      ]
     },
     "execution_count": 7,
     "metadata": {},
     "output_type": "execute_result"
    }
   ],
   "source": [
    "data = values[0:17280]\n",
    "data = series_to_supervised(data, n_in=1)\n",
    "data.shape"
   ]
  },
  {
   "cell_type": "markdown",
   "id": "ab5a80cd",
   "metadata": {},
   "source": [
    "# Evaluate\n"
   ]
  },
  {
   "cell_type": "code",
   "execution_count": 8,
   "id": "f51c486d",
   "metadata": {},
   "outputs": [
    {
     "name": "stdout",
     "output_type": "stream",
     "text": [
      ">expected=84.0, predicted=82.2\n",
      ">expected=85.0, predicted=84.9\n",
      ">expected=86.0, predicted=85.0\n",
      ">expected=86.0, predicted=86.6\n",
      ">expected=82.0, predicted=86.6\n",
      ">expected=82.0, predicted=82.2\n",
      ">expected=88.0, predicted=82.2\n",
      ">expected=91.0, predicted=89.1\n",
      ">expected=96.0, predicted=91.6\n",
      ">expected=96.0, predicted=96.3\n",
      ">expected=102.0, predicted=96.3\n",
      ">expected=105.0, predicted=101.4\n",
      ">expected=111.0, predicted=105.3\n",
      ">expected=113.0, predicted=111.1\n",
      ">expected=111.0, predicted=112.8\n",
      ">expected=110.0, predicted=111.1\n",
      ">expected=111.0, predicted=109.5\n",
      ">expected=110.0, predicted=111.1\n",
      ">expected=114.0, predicted=109.5\n",
      ">expected=116.0, predicted=114.2\n",
      ">expected=112.0, predicted=116.0\n",
      ">expected=110.0, predicted=111.6\n",
      ">expected=104.0, predicted=109.5\n",
      ">expected=102.0, predicted=104.3\n",
      ">expected=101.0, predicted=101.4\n",
      ">expected=99.0, predicted=101.4\n",
      ">expected=99.0, predicted=99.3\n",
      ">expected=99.0, predicted=99.3\n",
      ">expected=99.0, predicted=99.3\n",
      ">expected=99.0, predicted=99.3\n",
      ">expected=102.0, predicted=99.3\n",
      ">expected=108.0, predicted=101.4\n",
      ">expected=111.0, predicted=108.3\n",
      ">expected=112.0, predicted=111.1\n",
      ">expected=113.0, predicted=111.6\n",
      ">expected=115.0, predicted=112.8\n",
      ">expected=116.0, predicted=115.7\n",
      ">expected=117.0, predicted=116.0\n",
      ">expected=118.0, predicted=116.1\n",
      ">expected=119.0, predicted=117.9\n",
      ">expected=120.0, predicted=119.1\n",
      ">expected=121.0, predicted=119.5\n",
      ">expected=117.0, predicted=121.8\n",
      ">expected=117.0, predicted=116.1\n",
      ">expected=119.0, predicted=116.1\n",
      ">expected=120.0, predicted=119.1\n",
      ">expected=120.0, predicted=119.5\n",
      ">expected=121.0, predicted=119.5\n",
      ">expected=118.0, predicted=121.8\n",
      ">expected=118.0, predicted=117.9\n",
      ">expected=119.0, predicted=117.9\n",
      ">expected=120.0, predicted=119.1\n",
      ">expected=116.0, predicted=119.5\n",
      ">expected=118.0, predicted=116.0\n",
      ">expected=119.0, predicted=117.9\n",
      ">expected=117.0, predicted=119.1\n",
      ">expected=118.0, predicted=116.1\n",
      ">expected=115.0, predicted=117.9\n",
      ">expected=115.0, predicted=115.7\n",
      ">expected=117.0, predicted=115.7\n",
      ">expected=126.0, predicted=116.1\n",
      ">expected=127.0, predicted=126.0\n",
      ">expected=133.0, predicted=126.6\n",
      ">expected=136.0, predicted=132.8\n",
      ">expected=139.0, predicted=136.2\n",
      ">expected=150.0, predicted=138.2\n",
      ">expected=156.0, predicted=149.0\n",
      ">expected=162.0, predicted=155.1\n",
      ">expected=165.0, predicted=161.1\n",
      ">expected=167.0, predicted=164.4\n",
      ">expected=171.0, predicted=166.6\n",
      ">expected=173.0, predicted=169.8\n",
      "MAE: 2.583\n"
     ]
    }
   ],
   "source": [
    "mae, y, yhat = walk_forward_validation(data, 72)\n",
    "print('MAE: %.3f' % mae)"
   ]
  },
  {
   "cell_type": "markdown",
   "id": "3f071b54",
   "metadata": {},
   "source": [
    "# Plot expected vs predicted\n"
   ]
  },
  {
   "cell_type": "code",
   "execution_count": 9,
   "id": "dd9649d7",
   "metadata": {},
   "outputs": [
    {
     "data": {
      "image/png": "[encoded data removed]",
      "text/plain": [
       "<Figure size 432x288 with 1 Axes>"
      ]
     },
     "metadata": {
      "needs_background": "light"
     },
     "output_type": "display_data"
    }
   ],
   "source": [
    "pyplot.plot(y, label='Expected')\n",
    "pyplot.plot(yhat, label='Predicted')\n",
    "pyplot.legend()\n",
    "pyplot.show()"
   ]
  },
  {
   "cell_type": "code",
   "execution_count": null,
   "id": "4d2629f4",
   "metadata": {},
   "outputs": [],
   "source": []
  }
 ],
 "metadata": {
  "kernelspec": {
   "display_name": "Python 3 (ipykernel)",
   "language": "python",
   "name": "python3"
  },
  "language_info": {
   "codemirror_mode": {
    "name": "ipython",
    "version": 3
   },
   "file_extension": ".py",
   "mimetype": "text/x-python",
   "name": "python",
   "nbconvert_exporter": "python",
   "pygments_lexer": "ipython3",
   "version": "3.9.7"
  },
  "toc": {
   "base_numbering": 1,
   "nav_menu": {},
   "number_sections": true,
   "sideBar": true,
   "skip_h1_title": false,
   "title_cell": "Table of Contents",
   "title_sidebar": "Contents",
   "toc_cell": false,
   "toc_position": {},
   "toc_section_display": true,
   "toc_window_display": true
  }
 },
 "nbformat": 4,
 "nbformat_minor": 5
}
