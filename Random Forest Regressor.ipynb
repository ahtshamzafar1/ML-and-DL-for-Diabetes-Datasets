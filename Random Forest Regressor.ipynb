{
 "cells": [
  {
   "cell_type": "markdown",
   "id": "8a48ff24",
   "metadata": {},
   "source": [
    "# Import Libraries"
   ]
  },
  {
   "cell_type": "code",
   "execution_count": 1,
   "id": "d60de080",
   "metadata": {},
   "outputs": [],
   "source": [
    "from numpy import asarray\n",
    "from pandas import read_csv\n",
    "from pandas import DataFrame\n",
    "from pandas import concat\n",
    "from sklearn.metrics import mean_absolute_error\n",
    "from sklearn.ensemble import RandomForestRegressor\n",
    "from matplotlib import pyplot"
   ]
  },
  {
   "cell_type": "markdown",
   "id": "9e38e94d",
   "metadata": {},
   "source": [
    "# Transform a time series dataset into a supervised learning dataset\n",
    "\n",
    "This steps includes converting a naive time series data into a supervised dataset. The number of values to be used as lag for supervised dataset is sent as a parameter to the function. \n"
   ]
  },
  {
   "cell_type": "code",
   "execution_count": 2,
   "id": "3477d273",
   "metadata": {},
   "outputs": [],
   "source": [
    "def series_to_supervised(data, n_in=1, n_out=1, dropnan=True):\n",
    "    n_vars = 1 if type(data) is list else data.shape[1]\n",
    "    df = DataFrame(data)\n",
    "    cols = list()\n",
    "    # input sequence (t-n, ... t-1)\n",
    "    for i in range(n_in, 0, -1):\n",
    "        cols.append(df.shift(i))\n",
    "    # forecast sequence (t, t+1, ... t+n)\n",
    "    for i in range(0, n_out):\n",
    "        cols.append(df.shift(-i))\n",
    "    # put it all together\n",
    "    agg = concat(cols, axis=1)\n",
    "    # drop rows with NaN values\n",
    "    if dropnan:\n",
    "        agg.dropna(inplace=True)\n",
    "    return agg.values"
   ]
  },
  {
   "cell_type": "markdown",
   "id": "1d9c564b",
   "metadata": {},
   "source": [
    "# Split a univariate dataset into train/test sets"
   ]
  },
  {
   "cell_type": "code",
   "execution_count": 3,
   "id": "3cdbfd43",
   "metadata": {},
   "outputs": [],
   "source": [
    "def train_test_split(data, n_test):\n",
    "    return data[:-n_test, :], data[-n_test:, :]"
   ]
  },
  {
   "cell_type": "markdown",
   "id": "06d55d89",
   "metadata": {},
   "source": [
    "# Fit an random forest model and make a one step prediction\n"
   ]
  },
  {
   "cell_type": "code",
   "execution_count": 4,
   "id": "711ee690",
   "metadata": {},
   "outputs": [],
   "source": [
    "def random_forest_forecast(train, testX):\n",
    "    # transform list into array\n",
    "    train = asarray(train)\n",
    "    # split into input and output columns\n",
    "    trainX, trainy = train[:, :-1], train[:, -1]\n",
    "    # fit model\n",
    "    model = RandomForestRegressor(n_estimators=1000)\n",
    "    model.fit(trainX, trainy)\n",
    "    # make a one-step prediction\n",
    "    yhat = model.predict([testX])\n",
    "    return yhat[0]"
   ]
  },
  {
   "cell_type": "markdown",
   "id": "e0e32c78",
   "metadata": {},
   "source": [
    "# Walk-forward validation for univariate data\n"
   ]
  },
  {
   "cell_type": "code",
   "execution_count": 5,
   "id": "27135e63",
   "metadata": {},
   "outputs": [],
   "source": [
    "def walk_forward_validation(data, n_test):\n",
    "    predictions = list()\n",
    "    # split dataset\n",
    "    train, test = train_test_split(data, n_test)\n",
    "    # seed history with training dataset\n",
    "    history = [x for x in train]\n",
    "    # step over each time-step in the test set\n",
    "    for i in range(len(test)):\n",
    "        # split test row into input and output columns\n",
    "        testX, testy = test[i, :-1], test[i, -1]\n",
    "        # fit model on history and make a prediction\n",
    "        yhat = random_forest_forecast(history, testX)\n",
    "        # store forecast in list of predictions\n",
    "        predictions.append(yhat)\n",
    "        # add actual observation to history for the next loop\n",
    "        history.append(test[i])\n",
    "        # summarize progress\n",
    "        print('>expected=%.1f, predicted=%.1f' % (testy, yhat))\n",
    "    # estimate prediction error\n",
    "    error = mean_absolute_error(test[:, -1], predictions)\n",
    "    return error, test[:, -1], predictions"
   ]
  },
  {
   "cell_type": "markdown",
   "id": "388d0bdd",
   "metadata": {},
   "source": [
    "# load the dataset"
   ]
  },
  {
   "cell_type": "code",
   "execution_count": 11,
   "id": "d432acb9",
   "metadata": {},
   "outputs": [
    {
     "data": {
      "text/plain": [
       "[<matplotlib.lines.Line2D at 0x1c919b510d0>]"
      ]
     },
     "execution_count": 11,
     "metadata": {},
     "output_type": "execute_result"
    },
    {
     "data": {
      "image/png": "[encoded data removed]",
      "text/plain": [
       "<Figure size 432x288 with 1 Axes>"
      ]
     },
     "metadata": {
      "needs_background": "light"
     },
     "output_type": "display_data"
    }
   ],
   "source": [
    "series = read_csv(\n",
    "    r'C:\\Users\\ahtis\\OneDrive\\Desktop\\ARIMA\\data\\data.csv', header=0, index_col=0)\n",
    "values = series.values\n",
    "pyplot.plot(values, label='Original Glucose Data')"
   ]
  },
  {
   "cell_type": "markdown",
   "id": "c7c38091",
   "metadata": {},
   "source": [
    "# Transform the time series data into supervised learning\n"
   ]
  },
  {
   "cell_type": "code",
   "execution_count": 15,
   "id": "1b65fb88",
   "metadata": {},
   "outputs": [
    {
     "data": {
      "text/plain": [
       "(44947, 7)"
      ]
     },
     "execution_count": 15,
     "metadata": {},
     "output_type": "execute_result"
    }
   ],
   "source": [
    "data = series_to_supervised(values, n_in=6)\n",
    "data.shape"
   ]
  },
  {
   "cell_type": "markdown",
   "id": "7f6772ef",
   "metadata": {},
   "source": [
    "# Evaluate\n"
   ]
  },
  {
   "cell_type": "code",
   "execution_count": 16,
   "id": "a275ebcb",
   "metadata": {},
   "outputs": [
    {
     "name": "stdout",
     "output_type": "stream",
     "text": [
      ">expected=83.0, predicted=82.7\n",
      ">expected=83.0, predicted=84.9\n",
      ">expected=83.0, predicted=83.9\n",
      ">expected=84.0, predicted=83.6\n",
      ">expected=86.0, predicted=86.7\n",
      ">expected=87.0, predicted=87.9\n",
      ">expected=86.0, predicted=88.0\n",
      ">expected=87.0, predicted=86.5\n",
      ">expected=88.0, predicted=87.7\n",
      ">expected=90.0, predicted=89.1\n",
      ">expected=92.0, predicted=91.9\n",
      ">expected=95.0, predicted=94.6\n",
      "MAE: 0.772\n"
     ]
    }
   ],
   "source": [
    "mae, y, yhat = walk_forward_validation(data, 12)\n",
    "print('MAE: %.3f' % mae)"
   ]
  },
  {
   "cell_type": "markdown",
   "id": "ea208149",
   "metadata": {},
   "source": [
    "# Plot expected vs predicted\n"
   ]
  },
  {
   "cell_type": "code",
   "execution_count": 17,
   "id": "d86608c4",
   "metadata": {},
   "outputs": [
    {
     "data": {
      "image/png": "[encoded data removed]",
      "text/plain": [
       "<Figure size 432x288 with 1 Axes>"
      ]
     },
     "metadata": {
      "needs_background": "light"
     },
     "output_type": "display_data"
    }
   ],
   "source": [
    "pyplot.plot(y, label='Expected')\n",
    "pyplot.plot(yhat, label='Predicted')\n",
    "pyplot.legend()\n",
    "pyplot.show()"
   ]
  }
 ],
 "metadata": {
  "kernelspec": {
   "display_name": "Python 3 (ipykernel)",
   "language": "python",
   "name": "python3"
  },
  "language_info": {
   "codemirror_mode": {
    "name": "ipython",
    "version": 3
   },
   "file_extension": ".py",
   "mimetype": "text/x-python",
   "name": "python",
   "nbconvert_exporter": "python",
   "pygments_lexer": "ipython3",
   "version": "3.9.7"
  },
  "toc": {
   "base_numbering": 1,
   "nav_menu": {},
   "number_sections": true,
   "sideBar": true,
   "skip_h1_title": false,
   "title_cell": "Table of Contents",
   "title_sidebar": "Contents",
   "toc_cell": false,
   "toc_position": {},
   "toc_section_display": true,
   "toc_window_display": true
  }
 },
 "nbformat": 4,
 "nbformat_minor": 5
}
