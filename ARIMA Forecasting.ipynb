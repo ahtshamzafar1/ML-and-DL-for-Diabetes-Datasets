{
 "cells": [
  {
   "cell_type": "markdown",
   "id": "90372355",
   "metadata": {},
   "source": [
    "# Introduction"
   ]
  },
  {
   "cell_type": "markdown",
   "id": "18a62086",
   "metadata": {},
   "source": [
    "An autoregressive integrated moving average, or ARIMA, is a statistical analysis model that uses time series data to either better understand the data set or to predict future trends. A statistical model is autoregressive if it predicts future values based on past values. For example, an ARIMA model might seek to predict a stock's future prices based on its past performance or forecast a company's earnings based on past periods.\n",
    "\n",
    "KEY TAKEAWAYS\n",
    "1. Autoregressive integrated moving average (ARIMA) models predict future values based on past values.\n",
    "2. ARIMA makes use of lagged moving averages to smooth time series data.\n",
    "3. They are widely used in technical analysis to forecast future security prices.\n",
    "4. Autoregressive models implicitly assume that the future will resemble the past.\n",
    "5. Therefore, they can prove inaccurate under certain market conditions, such as financial crises or periods of rapid technological change."
   ]
  },
  {
   "cell_type": "markdown",
   "id": "f57aca68",
   "metadata": {},
   "source": [
    "# Import Libraries"
   ]
  },
  {
   "cell_type": "code",
   "execution_count": 1,
   "id": "f88b3ccd",
   "metadata": {},
   "outputs": [],
   "source": [
    "import warnings\n",
    "warnings.filterwarnings(\"ignore\")\n",
    "from math import sqrt\n",
    "import time\n",
    "from sklearn.metrics import mean_squared_error\n",
    "from sklearn.metrics import mean_absolute_error\n",
    "from statsmodels.tsa.arima.model import ARIMA\n",
    "from matplotlib import pyplot\n",
    "from pandas import datetime\n",
    "from pandas import read_csv"
   ]
  },
  {
   "cell_type": "markdown",
   "id": "6b4d10d0",
   "metadata": {},
   "source": [
    "# Load Dataset and divide in Test/Train"
   ]
  },
  {
   "cell_type": "code",
   "execution_count": 2,
   "id": "22ccda6c",
   "metadata": {},
   "outputs": [],
   "source": [
    "# load dataset\n",
    "series = read_csv(\n",
    "    r'C:\\Users\\ahtis\\OneDrive\\Desktop\\data\\data.csv', header=0, index_col=0)\n",
    "#series.index = series.index.to_period('M')\n",
    "# split into train and test sets\n",
    "test = 72\n",
    "X = series.values\n",
    "size = int(len(X) * 0.66)\n",
    "train, test = X[0:8640], X[8640:8640+test]\n",
    "history = [x for x in train]\n",
    "predictions = list()"
   ]
  },
  {
   "cell_type": "markdown",
   "id": "dd0a6b69",
   "metadata": {},
   "source": [
    "# Walk-Forward Validation for Prediction"
   ]
  },
  {
   "cell_type": "code",
   "execution_count": 3,
   "id": "5de0c187",
   "metadata": {},
   "outputs": [
    {
     "name": "stdout",
     "output_type": "stream",
     "text": [
      "predicted=107.895514, expected=111.000000\n",
      "predicted=113.573112, expected=115.000000\n",
      "predicted=117.664690, expected=119.000000\n",
      "predicted=121.597037, expected=125.000000\n",
      "predicted=127.912189, expected=131.000000\n",
      "predicted=133.954907, expected=138.000000\n",
      "predicted=141.362009, expected=142.000000\n",
      "predicted=144.814096, expected=150.000000\n",
      "predicted=153.719667, expected=156.000000\n",
      "predicted=159.386098, expected=164.000000\n",
      "predicted=167.825130, expected=172.000000\n",
      "predicted=176.119387, expected=180.000000\n",
      "predicted=184.239356, expected=187.000000\n",
      "predicted=191.095999, expected=193.000000\n",
      "predicted=196.648060, expected=196.000000\n",
      "predicted=198.610565, expected=191.000000\n",
      "predicted=190.787513, expected=185.000000\n",
      "predicted=183.170378, expected=180.000000\n",
      "predicted=177.334585, expected=167.000000\n",
      "predicted=161.529453, expected=150.000000\n",
      "predicted=142.462898, expected=132.000000\n",
      "predicted=123.216654, expected=112.000000\n",
      "predicted=101.785980, expected=100.000000\n",
      "predicted=91.312270, expected=90.000000\n",
      "predicted=82.650762, expected=82.000000\n",
      "predicted=76.380785, expected=81.000000\n",
      "predicted=78.504708, expected=84.000000\n",
      "predicted=83.981257, expected=88.000000\n",
      "predicted=89.503645, expected=93.000000\n",
      "predicted=95.573019, expected=96.000000\n",
      "predicted=98.503972, expected=101.000000\n",
      "predicted=103.841269, expected=103.000000\n",
      "predicted=104.843874, expected=107.000000\n",
      "predicted=108.963170, expected=113.000000\n",
      "predicted=115.553544, expected=119.000000\n",
      "predicted=121.798313, expected=125.000000\n",
      "predicted=128.130728, expected=130.000000\n",
      "predicted=133.022849, expected=133.000000\n",
      "predicted=135.408076, expected=137.000000\n",
      "predicted=139.251806, expected=139.000000\n",
      "predicted=140.481312, expected=142.000000\n",
      "predicted=143.458542, expected=143.000000\n",
      "predicted=143.895199, expected=145.000000\n",
      "predicted=145.962704, expected=143.000000\n",
      "predicted=142.855066, expected=142.000000\n",
      "predicted=141.622386, expected=138.000000\n",
      "predicted=136.600639, expected=134.000000\n",
      "predicted=132.057344, expected=126.000000\n",
      "predicted=122.709665, expected=118.000000\n",
      "predicted=114.061870, expected=107.000000\n",
      "predicted=101.890001, expected=96.000000\n",
      "predicted=90.255236, expected=92.000000\n",
      "predicted=87.980341, expected=90.000000\n",
      "predicted=87.247632, expected=92.000000\n",
      "predicted=91.389069, expected=90.000000\n",
      "predicted=89.525876, expected=85.000000\n",
      "predicted=83.896405, expected=85.000000\n",
      "predicted=84.731569, expected=84.000000\n",
      "predicted=83.258704, expected=83.000000\n",
      "predicted=82.220132, expected=81.000000\n",
      "predicted=80.147005, expected=84.000000\n",
      "predicted=84.589784, expected=84.000000\n",
      "predicted=84.228220, expected=86.000000\n",
      "predicted=86.716084, expected=87.000000\n",
      "predicted=87.776785, expected=89.000000\n",
      "predicted=89.980622, expected=92.000000\n",
      "predicted=93.332416, expected=94.000000\n",
      "predicted=95.129734, expected=96.000000\n",
      "predicted=97.218327, expected=99.000000\n",
      "predicted=100.449434, expected=101.000000\n",
      "predicted=102.233459, expected=103.000000\n",
      "predicted=104.150233, expected=104.000000\n",
      "--- 106.22938132286072 seconds ---\n"
     ]
    }
   ],
   "source": [
    "# walk-forward validation\n",
    "start_time = time.time()\n",
    "for t in range(len(test)):\n",
    "    model = ARIMA(history, order=(7, 1, 0))\n",
    "    model_fit = model.fit()\n",
    "    output = model_fit.forecast()\n",
    "    yhat = output[0]\n",
    "    predictions.append(yhat)\n",
    "    obs = test[t]\n",
    "    history.append(yhat)\n",
    "    print('predicted=%f, expected=%f' % (yhat, obs))\n",
    "print(\"--- %s seconds ---\" % (time.time() - start_time))"
   ]
  },
  {
   "cell_type": "markdown",
   "id": "c812b8ce",
   "metadata": {},
   "source": [
    "# Evaluation"
   ]
  },
  {
   "cell_type": "code",
   "execution_count": 4,
   "id": "152b0061",
   "metadata": {
    "scrolled": true
   },
   "outputs": [
    {
     "name": "stdout",
     "output_type": "stream",
     "text": [
      "Test RMSE: 3.958\n",
      "Test MAE: 2.964\n"
     ]
    },
    {
     "data": {
      "image/png": "[encoded data removed]",
      "text/plain": [
       "<Figure size 432x288 with 1 Axes>"
      ]
     },
     "metadata": {
      "needs_background": "light"
     },
     "output_type": "display_data"
    }
   ],
   "source": [
    "# evaluate forecasts\n",
    "rmse = sqrt(mean_squared_error(test, predictions))\n",
    "mae = mean_absolute_error(test, predictions)\n",
    "print('Test RMSE: %.3f' % rmse)\n",
    "print('Test MAE: %.3f' % mae)\n",
    "# plot forecasts against actual outcomes\n",
    "pyplot.plot(test, label='Expected' )\n",
    "pyplot.plot(predictions, color='red', label='Predicted')\n",
    "pyplot.legend()\n",
    "pyplot.xlabel(\"Data Points\")\n",
    "pyplot.ylabel(\"Glucose Level mg/dL\")\n",
    "pyplot.show()"
   ]
  }
 ],
 "metadata": {
  "kernelspec": {
   "display_name": "Python 3 (ipykernel)",
   "language": "python",
   "name": "python3"
  },
  "language_info": {
   "codemirror_mode": {
    "name": "ipython",
    "version": 3
   },
   "file_extension": ".py",
   "mimetype": "text/x-python",
   "name": "python",
   "nbconvert_exporter": "python",
   "pygments_lexer": "ipython3",
   "version": "3.9.7"
  },
  "toc": {
   "base_numbering": 1,
   "nav_menu": {},
   "number_sections": true,
   "sideBar": true,
   "skip_h1_title": false,
   "title_cell": "Table of Contents",
   "title_sidebar": "Contents",
   "toc_cell": false,
   "toc_position": {},
   "toc_section_display": true,
   "toc_window_display": false
  }
 },
 "nbformat": 4,
 "nbformat_minor": 5
}
