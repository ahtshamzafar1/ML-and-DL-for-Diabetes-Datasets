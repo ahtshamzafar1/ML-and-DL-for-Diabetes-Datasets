{
 "cells": [
  {
   "cell_type": "markdown",
   "id": "fa340742",
   "metadata": {},
   "source": [
    "# Import Libraries"
   ]
  },
  {
   "cell_type": "code",
   "execution_count": 1,
   "id": "254d48aa",
   "metadata": {},
   "outputs": [
    {
     "name": "stderr",
     "output_type": "stream",
     "text": [
      "C:\\Users\\ahtis\\AppData\\Local\\Temp/ipykernel_8240/3709826443.py:5: FutureWarning: The pandas.datetime class is deprecated and will be removed from pandas in a future version. Import from datetime module instead.\n",
      "  from pandas import datetime\n"
     ]
    }
   ],
   "source": [
    "from pandas import DataFrame\n",
    "from pandas import Series\n",
    "from pandas import concat\n",
    "from pandas import read_csv\n",
    "from pandas import datetime\n",
    "from sklearn.metrics import mean_squared_error\n",
    "from sklearn.preprocessing import MinMaxScaler\n",
    "from keras.models import Sequential\n",
    "from keras.layers import Dense\n",
    "from keras.layers import LSTM\n",
    "from math import sqrt\n",
    "from matplotlib import pyplot\n",
    "from numpy import array\n",
    "import numpy as np"
   ]
  },
  {
   "cell_type": "markdown",
   "id": "60159975",
   "metadata": {},
   "source": [
    "# Functions for LSTM Forecasting"
   ]
  },
  {
   "cell_type": "code",
   "execution_count": null,
   "id": "90362adc",
   "metadata": {},
   "outputs": [],
   "source": [
    "# date-time parsing function for loading the dataset\n",
    "def parser(x):\n",
    "    return datetime.strptime('190'+x, '%Y-%m-%d %H:%M:%S')\n",
    "\n",
    "# convert time series into supervised learning problem\n",
    "\n",
    "\n",
    "def series_to_supervised(data, n_in=1, n_out=1, dropnan=True):\n",
    "    n_vars = 1 if type(data) is list else data.shape[1]\n",
    "    df = DataFrame(data)\n",
    "    cols, names = list(), list()\n",
    "    # input sequence (t-n, ... t-1)\n",
    "    for i in range(n_in, 0, -1):\n",
    "        cols.append(df.shift(i))\n",
    "        names += [('var%d(t-%d)' % (j+1, i)) for j in range(n_vars)]\n",
    "    # forecast sequence (t, t+1, ... t+n)\n",
    "    for i in range(0, n_out):\n",
    "        cols.append(df.shift(-i))\n",
    "        if i == 0:\n",
    "            names += [('var%d(t)' % (j+1)) for j in range(n_vars)]\n",
    "        else:\n",
    "            names += [('var%d(t+%d)' % (j+1, i)) for j in range(n_vars)]\n",
    "    # put it all together\n",
    "    agg = concat(cols, axis=1)\n",
    "    agg.columns = names\n",
    "    # drop rows with NaN values\n",
    "    if dropnan:\n",
    "        agg.dropna(inplace=True)\n",
    "    return agg\n",
    "\n",
    "# create a differenced series\n",
    "\n",
    "\n",
    "def difference(dataset, interval=1):\n",
    "    diff = list()\n",
    "    for i in range(interval, len(dataset)):\n",
    "        value = dataset[i] - dataset[i - interval]\n",
    "        diff.append(value)\n",
    "    return Series(diff)\n",
    "\n",
    "# transform series into train and test sets for supervised learning\n",
    "\n",
    "\n",
    "def prepare_data(series, n_test, n_lag, n_seq):\n",
    "    # extract raw values\n",
    "    raw_values = series.values\n",
    "    # transform data to be stationary\n",
    "    diff_series = difference(raw_values, 1)\n",
    "    diff_values = diff_series.values\n",
    "    diff_values = diff_values.reshape(len(diff_values), 1)\n",
    "    # rescale values to -1, 1\n",
    "    scaler = MinMaxScaler(feature_range=(-1, 1))\n",
    "    scaled_values = scaler.fit_transform(diff_values)\n",
    "    scaled_values = scaled_values.reshape(len(scaled_values), 1)\n",
    "    # transform into supervised learning problem X, y\n",
    "    supervised = series_to_supervised(scaled_values, n_lag, n_seq)\n",
    "    supervised_values = supervised.values\n",
    "    # split into train and test sets\n",
    "    train, test = supervised_values[0:-n_test], supervised_values[-n_test:]\n",
    "    return scaler, train, test\n",
    "\n",
    "# fit an LSTM network to training data\n",
    "\n",
    "\n",
    "def fit_lstm(train, n_lag, n_seq, n_batch, nb_epoch, n_neurons):\n",
    "    # reshape training into [samples, timesteps, features]\n",
    "    X, y = train[:, 0:n_lag], train[:, n_lag:]\n",
    "    X = X.reshape(X.shape[0], 1, X.shape[1])\n",
    "    # design network\n",
    "    model = Sequential()\n",
    "    model.add(LSTM(n_neurons, batch_input_shape=(\n",
    "        n_batch, X.shape[1], X.shape[2]), stateful=True))\n",
    "    model.add(Dense(y.shape[1]))\n",
    "    model.compile(loss='mean_squared_error', optimizer='adam')\n",
    "    # fit network\n",
    "    for i in range(nb_epoch):\n",
    "        model.fit(X, y, epochs=1, batch_size=n_batch, verbose=0, shuffle=False)\n",
    "        model.reset_states()\n",
    "    return model\n",
    "\n",
    "# make one forecast with an LSTM,\n",
    "\n",
    "\n",
    "def forecast_lstm(model, X, n_batch):\n",
    "    # reshape input pattern to [samples, timesteps, features]\n",
    "    X = X.reshape(1, 1, len(X))\n",
    "    # make forecast\n",
    "    forecast = model.predict(X, batch_size=n_batch)\n",
    "    # convert to array\n",
    "    return [x for x in forecast[0, :]]\n",
    "\n",
    "# evaluate the persistence model\n",
    "\n",
    "\n",
    "def make_forecasts(model, n_batch, train, test, n_lag, n_seq):\n",
    "    forecasts = list()\n",
    "    for i in range(len(test)):\n",
    "        X, y = test[i, 0:n_lag], test[i, n_lag:]\n",
    "        # make forecast\n",
    "        forecast = forecast_lstm(model, X, n_batch)\n",
    "        # store the forecast\n",
    "        forecasts.append(forecast)\n",
    "    return forecasts\n",
    "\n",
    "# invert differenced forecast\n",
    "\n",
    "\n",
    "def inverse_difference(last_ob, forecast):\n",
    "    # invert first forecast\n",
    "    inverted = list()\n",
    "    inverted.append(forecast[0] + last_ob)\n",
    "    # propagate difference forecast using inverted first value\n",
    "    for i in range(1, len(forecast)):\n",
    "        inverted.append(forecast[i] + inverted[i-1])\n",
    "    return inverted\n",
    "\n",
    "# inverse data transform on forecasts\n",
    "\n",
    "\n",
    "def inverse_transform(series, forecasts, scaler, n_test):\n",
    "    inverted = list()\n",
    "    for i in range(len(forecasts)):\n",
    "        # create array from forecast\n",
    "        forecast = array(forecasts[i])\n",
    "        forecast = forecast.reshape(1, len(forecast))\n",
    "        # invert scaling\n",
    "        inv_scale = scaler.inverse_transform(forecast)\n",
    "        inv_scale = inv_scale[0, :]\n",
    "        # invert differencing\n",
    "        index = len(series) - n_test + i - 1\n",
    "        last_ob = series.values[index]\n",
    "        inv_diff = inverse_difference(last_ob, inv_scale)\n",
    "        # store\n",
    "        inverted.append(inv_diff)\n",
    "    return inverted\n",
    "\n",
    "# evaluate the RMSE for each forecast time step\n",
    "\n",
    "\n",
    "def evaluate_forecasts(test, forecasts, n_lag, n_seq):\n",
    "    for i in range(n_seq):\n",
    "        actual = [row[i] for row in test]\n",
    "        predicted = [forecast[i] for forecast in forecasts]\n",
    "        rmse = sqrt(mean_squared_error(actual, predicted))\n",
    "        print('t+%d RMSE: %f' % ((i+1), rmse))\n",
    "\n",
    "# plot the forecasts in the context of the original dataset\n",
    "\n",
    "\n",
    "def plot_forecasts(series, forecasts, n_test):\n",
    "    # plot the entire dataset in blue\n",
    "    pyplot.plot(series.values)\n",
    "    # plot the forecasts in red\n",
    "    for i in range(len(forecasts)):\n",
    "        off_s = len(series) - n_test + i - 1\n",
    "        off_e = off_s + len(forecasts[i]) + 1\n",
    "        xaxis = [x for x in range(off_s, off_e)]\n",
    "        yaxis = [series.values[off_s]] + forecasts[i]\n",
    "        pyplot.plot(xaxis, yaxis, color='red')\n",
    "    # show the plot\n",
    "    pyplot.show()"
   ]
  },
  {
   "cell_type": "markdown",
   "id": "b8496d97",
   "metadata": {},
   "source": [
    "# Load Data and Execute "
   ]
  },
  {
   "cell_type": "code",
   "execution_count": 2,
   "id": "8e3c60b7",
   "metadata": {},
   "outputs": [
    {
     "name": "stdout",
     "output_type": "stream",
     "text": [
      "t+1 RMSE: 2.992980\n"
     ]
    },
    {
     "data": {
      "image/png": "[encoded data removed]",
      "text/plain": [
       "<Figure size 432x288 with 1 Axes>"
      ]
     },
     "metadata": {
      "needs_background": "light"
     },
     "output_type": "display_data"
    }
   ],
   "source": [
    "# load dataset\n",
    "series = read_csv(\n",
    "    r'C:\\Users\\ahtis\\OneDrive\\Desktop\\ARIMA\\data\\data.csv', header=0, index_col=0)\n",
    "series = series[0:17280]\n",
    "# configure\n",
    "n_lag = 1\n",
    "n_seq = 1\n",
    "n_test = 72\n",
    "n_epochs = 15\n",
    "n_batch = 1\n",
    "n_neurons = 50\n",
    "# prepare data\n",
    "scaler, train, test = prepare_data(series, n_test, n_lag, n_seq)\n",
    "# fit model\n",
    "model = fit_lstm(train, n_lag, n_seq, n_batch, n_epochs, n_neurons)\n",
    "# make forecasts\n",
    "forecasts = make_forecasts(model, n_batch, train, test, n_lag, n_seq)\n",
    "# inverse transform forecasts and test\n",
    "forecasts = inverse_transform(series, forecasts, scaler, n_test+2)\n",
    "actual = [row[n_lag:] for row in test]\n",
    "actual = inverse_transform(series, actual, scaler, n_test+2)\n",
    "# evaluate forecasts\n",
    "evaluate_forecasts(actual, forecasts, n_lag, n_seq)\n",
    "# plot forecasts\n",
    "plot_forecasts(series, forecasts, n_test+2)"
   ]
  },
  {
   "cell_type": "markdown",
   "id": "3dac2d45",
   "metadata": {},
   "source": [
    "# Evaluate using RMSE"
   ]
  },
  {
   "cell_type": "code",
   "execution_count": 3,
   "id": "89aed89f",
   "metadata": {},
   "outputs": [
    {
     "data": {
      "text/plain": [
       "[[array([84.41038775])],\n",
       " [array([86.0147984])],\n",
       " [array([82.23207375])],\n",
       " [array([84.42928663])],\n",
       " [array([84.78521326])],\n",
       " [array([82.94535184])],\n",
       " [array([85.70014933])],\n",
       " [array([85.58405209])],\n",
       " [array([83.89576387])],\n",
       " [array([91.51229739])],\n",
       " [array([91.02554312])],\n",
       " [array([99.91575122])],\n",
       " [array([97.60917366])],\n",
       " [array([105.7355597])],\n",
       " [array([106.05239844])],\n",
       " [array([109.11608613])],\n",
       " [array([111.54637432])],\n",
       " [array([110.80696441])],\n",
       " [array([108.53305531])],\n",
       " [array([113.19797945])],\n",
       " [array([110.82883579])],\n",
       " [array([110.94378018])],\n",
       " [array([114.05337751])],\n",
       " [array([107.26672554])],\n",
       " [array([107.9388814])],\n",
       " [array([102.81387627])],\n",
       " [array([100.28325808])],\n",
       " [array([100.88564447])],\n",
       " [array([98.8919441])],\n",
       " [array([98.9399993])],\n",
       " [array([98.98228332])],\n",
       " [array([101.05516505])],\n",
       " [array([102.96164417])],\n",
       " [array([104.2138443])],\n",
       " [array([108.81052721])],\n",
       " [array([111.51951033])],\n",
       " [array([112.98085266])],\n",
       " [array([113.27256852])],\n",
       " [array([115.31014413])],\n",
       " [array([116.28378779])],\n",
       " [array([117.25573084])],\n",
       " [array([118.26478454])],\n",
       " [array([119.27195624])],\n",
       " [array([116.90038371])],\n",
       " [array([120.60045677])],\n",
       " [array([117.83006966])],\n",
       " [array([117.31782728])],\n",
       " [array([118.793669])],\n",
       " [array([120.44274914])],\n",
       " [array([117.64451718])],\n",
       " [array([120.67297575])],\n",
       " [array([118.30016014])],\n",
       " [array([118.39064133])],\n",
       " [array([116.13665938])],\n",
       " [array([121.34530711])],\n",
       " [array([116.3350043])],\n",
       " [array([116.45477235])],\n",
       " [array([119.63520992])],\n",
       " [array([114.75978041])],\n",
       " [array([117.77984478])],\n",
       " [array([116.15990806])],\n",
       " [array([120.72370768])],\n",
       " [array([118.14682245])],\n",
       " [array([130.36358786])],\n",
       " [array([128.87288928])],\n",
       " [array([134.77778924])],\n",
       " [array([142.70188046])],\n",
       " [array([142.7111547])],\n",
       " [array([153.94245958])],\n",
       " [array([157.63529956])],\n",
       " [array([162.59041786])],\n",
       " [array([166.7514559])]]"
      ]
     },
     "execution_count": 3,
     "metadata": {},
     "output_type": "execute_result"
    }
   ],
   "source": [
    "forecasts"
   ]
  },
  {
   "cell_type": "code",
   "execution_count": 4,
   "id": "0a403dc2",
   "metadata": {},
   "outputs": [
    {
     "data": {
      "text/plain": [
       "[[array([89.])],\n",
       " [array([86.])],\n",
       " [array([83.])],\n",
       " [array([84.])],\n",
       " [array([81.])],\n",
       " [array([86.])],\n",
       " [array([92.])],\n",
       " [array([85.])],\n",
       " [array([87.])],\n",
       " [array([88.])],\n",
       " [array([97.])],\n",
       " [array([99.])],\n",
       " [array([102.])],\n",
       " [array([104.])],\n",
       " [array([103.])],\n",
       " [array([110.])],\n",
       " [array([114.])],\n",
       " [array([110.])],\n",
       " [array([114.])],\n",
       " [array([113.])],\n",
       " [array([106.])],\n",
       " [array([112.])],\n",
       " [array([110.])],\n",
       " [array([110.])],\n",
       " [array([109.])],\n",
       " [array([102.])],\n",
       " [array([102.])],\n",
       " [array([101.])],\n",
       " [array([99.])],\n",
       " [array([99.])],\n",
       " [array([102.])],\n",
       " [array([105.])],\n",
       " [array([102.])],\n",
       " [array([103.])],\n",
       " [array([109.])],\n",
       " [array([113.])],\n",
       " [array([113.])],\n",
       " [array([114.])],\n",
       " [array([116.])],\n",
       " [array([117.])],\n",
       " [array([118.])],\n",
       " [array([119.])],\n",
       " [array([115.])],\n",
       " [array([120.])],\n",
       " [array([123.])],\n",
       " [array([118.])],\n",
       " [array([117.])],\n",
       " [array([120.])],\n",
       " [array([117.])],\n",
       " [array([120.])],\n",
       " [array([122.])],\n",
       " [array([119.])],\n",
       " [array([114.])],\n",
       " [array([121.])],\n",
       " [array([121.])],\n",
       " [array([114.])],\n",
       " [array([119.])],\n",
       " [array([116.])],\n",
       " [array([117.])],\n",
       " [array([120.])],\n",
       " [array([124.])],\n",
       " [array([116.])],\n",
       " [array([123.])],\n",
       " [array([129.])],\n",
       " [array([130.])],\n",
       " [array([144.])],\n",
       " [array([142.])],\n",
       " [array([145.])],\n",
       " [array([153.])],\n",
       " [array([158.])],\n",
       " [array([166.])],\n",
       " [array([167.])]]"
      ]
     },
     "execution_count": 4,
     "metadata": {},
     "output_type": "execute_result"
    }
   ],
   "source": [
    "actual"
   ]
  },
  {
   "cell_type": "markdown",
   "id": "3a81444c",
   "metadata": {},
   "source": [
    "## RMSE Calculation"
   ]
  },
  {
   "cell_type": "code",
   "execution_count": 5,
   "id": "72c8c0d2",
   "metadata": {},
   "outputs": [],
   "source": [
    "import numpy as np\n",
    "forecast = np.array(forecasts)\n",
    "expected = np.array(actual)"
   ]
  },
  {
   "cell_type": "code",
   "execution_count": 6,
   "id": "9dad4e3f",
   "metadata": {},
   "outputs": [
    {
     "data": {
      "image/png": "[encoded data removed]",
      "text/plain": [
       "<Figure size 432x288 with 1 Axes>"
      ]
     },
     "metadata": {
      "needs_background": "light"
     },
     "output_type": "display_data"
    },
    {
     "name": "stdout",
     "output_type": "stream",
     "text": [
      "RMSE: 2.992980474811824\n"
     ]
    }
   ],
   "source": [
    "pyplot.plot(forecast[:,0], label='Predicted')\n",
    "pyplot.plot(expected[:,0], label='Expected')\n",
    "\n",
    "pyplot.legend()\n",
    "pyplot.show()\n",
    "print ('RMSE:',(mean_squared_error(expected[:,0], forecast[:,0]))**0.5)"
   ]
  }
 ],
 "metadata": {
  "kernelspec": {
   "display_name": "Python 3 (ipykernel)",
   "language": "python",
   "name": "python3"
  },
  "language_info": {
   "codemirror_mode": {
    "name": "ipython",
    "version": 3
   },
   "file_extension": ".py",
   "mimetype": "text/x-python",
   "name": "python",
   "nbconvert_exporter": "python",
   "pygments_lexer": "ipython3",
   "version": "3.9.7"
  },
  "toc": {
   "base_numbering": 1,
   "nav_menu": {},
   "number_sections": true,
   "sideBar": true,
   "skip_h1_title": false,
   "title_cell": "Table of Contents",
   "title_sidebar": "Contents",
   "toc_cell": false,
   "toc_position": {},
   "toc_section_display": true,
   "toc_window_display": false
  }
 },
 "nbformat": 4,
 "nbformat_minor": 5
}
